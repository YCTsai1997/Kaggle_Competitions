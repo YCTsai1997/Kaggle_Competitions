{
 "cells": [
  {
   "cell_type": "markdown",
   "id": "43e5829b",
   "metadata": {
    "papermill": {
     "duration": 0.073798,
     "end_time": "2021-10-16T03:38:30.270228",
     "exception": false,
     "start_time": "2021-10-16T03:38:30.196430",
     "status": "completed"
    },
    "tags": []
   },
   "source": [
    "## Import Libraries"
   ]
  },
  {
   "cell_type": "code",
   "execution_count": 1,
   "id": "58f2afba",
   "metadata": {
    "_cell_guid": "b1076dfc-b9ad-4769-8c92-a6c4dae69d19",
    "_uuid": "8f2839f25d086af736a60e9eeb907d3b93b6e0e5",
    "execution": {
     "iopub.execute_input": "2021-10-16T03:38:30.402027Z",
     "iopub.status.busy": "2021-10-16T03:38:30.396442Z",
     "iopub.status.idle": "2021-10-16T03:38:31.709799Z",
     "shell.execute_reply": "2021-10-16T03:38:31.708983Z",
     "shell.execute_reply.started": "2021-10-16T01:35:50.390507Z"
    },
    "papermill": {
     "duration": 1.380037,
     "end_time": "2021-10-16T03:38:31.709985",
     "exception": false,
     "start_time": "2021-10-16T03:38:30.329948",
     "status": "completed"
    },
    "tags": []
   },
   "outputs": [
    {
     "name": "stdout",
     "output_type": "stream",
     "text": [
      "/kaggle/input/titanic/train.csv\n",
      "/kaggle/input/titanic/test.csv\n",
      "/kaggle/input/titanic/gender_submission.csv\n"
     ]
    }
   ],
   "source": [
    "import numpy as np \n",
    "import pandas as pd\n",
    "import matplotlib.pyplot as plt\n",
    "import seaborn as sns\n",
    "from sklearn.ensemble import RandomForestClassifier\n",
    "\n",
    "import warnings\n",
    "warnings.filterwarnings('ignore') \n",
    "\n",
    "\n",
    "%matplotlib inline\n",
    "\n",
    "# Input data files are available in the read-only \"../input/\" directory\n",
    "# For example, running this (by clicking run or pressing Shift+Enter) will list all files under the input directory\n",
    "\n",
    "import os\n",
    "for dirname, _, filenames in os.walk('/kaggle/input'):\n",
    "    for filename in filenames:\n",
    "        print(os.path.join(dirname, filename))\n",
    "\n",
    "# You can write up to 20GB to the current directory (/kaggle/working/) that gets preserved as output when you create a version using \"Save & Run All\" \n",
    "# You can also write temporary files to /kaggle/temp/, but they won't be saved outside of the current session"
   ]
  },
  {
   "cell_type": "markdown",
   "id": "3f7cea1e",
   "metadata": {
    "papermill": {
     "duration": 0.05651,
     "end_time": "2021-10-16T03:38:31.824488",
     "exception": false,
     "start_time": "2021-10-16T03:38:31.767978",
     "status": "completed"
    },
    "tags": []
   },
   "source": [
    "## "
   ]
  },
  {
   "cell_type": "markdown",
   "id": "07192300",
   "metadata": {
    "papermill": {
     "duration": 0.058204,
     "end_time": "2021-10-16T03:38:31.940435",
     "exception": false,
     "start_time": "2021-10-16T03:38:31.882231",
     "status": "completed"
    },
    "tags": []
   },
   "source": [
    "## Import Data"
   ]
  },
  {
   "cell_type": "code",
   "execution_count": 2,
   "id": "578349e6",
   "metadata": {
    "execution": {
     "iopub.execute_input": "2021-10-16T03:38:32.059058Z",
     "iopub.status.busy": "2021-10-16T03:38:32.058191Z",
     "iopub.status.idle": "2021-10-16T03:38:32.090024Z",
     "shell.execute_reply": "2021-10-16T03:38:32.090613Z",
     "shell.execute_reply.started": "2021-10-16T01:35:50.405286Z"
    },
    "papermill": {
     "duration": 0.093672,
     "end_time": "2021-10-16T03:38:32.090836",
     "exception": false,
     "start_time": "2021-10-16T03:38:31.997164",
     "status": "completed"
    },
    "tags": []
   },
   "outputs": [],
   "source": [
    "train_data = pd.read_csv(\"/kaggle/input/titanic/train.csv\")\n",
    "test_data = pd.read_csv(\"/kaggle/input/titanic/test.csv\")"
   ]
  },
  {
   "cell_type": "code",
   "execution_count": 3,
   "id": "6486fa8f",
   "metadata": {
    "execution": {
     "iopub.execute_input": "2021-10-16T03:38:32.215837Z",
     "iopub.status.busy": "2021-10-16T03:38:32.215081Z",
     "iopub.status.idle": "2021-10-16T03:38:32.250765Z",
     "shell.execute_reply": "2021-10-16T03:38:32.251277Z",
     "shell.execute_reply.started": "2021-10-16T01:35:50.430212Z"
    },
    "papermill": {
     "duration": 0.103135,
     "end_time": "2021-10-16T03:38:32.251486",
     "exception": false,
     "start_time": "2021-10-16T03:38:32.148351",
     "status": "completed"
    },
    "tags": []
   },
   "outputs": [
    {
     "data": {
      "text/html": [
       "<div>\n",
       "<style scoped>\n",
       "    .dataframe tbody tr th:only-of-type {\n",
       "        vertical-align: middle;\n",
       "    }\n",
       "\n",
       "    .dataframe tbody tr th {\n",
       "        vertical-align: top;\n",
       "    }\n",
       "\n",
       "    .dataframe thead th {\n",
       "        text-align: right;\n",
       "    }\n",
       "</style>\n",
       "<table border=\"1\" class=\"dataframe\">\n",
       "  <thead>\n",
       "    <tr style=\"text-align: right;\">\n",
       "      <th></th>\n",
       "      <th>Source</th>\n",
       "      <th>PassengerId</th>\n",
       "      <th>Survived</th>\n",
       "      <th>Pclass</th>\n",
       "      <th>Name</th>\n",
       "      <th>Sex</th>\n",
       "      <th>Age</th>\n",
       "      <th>SibSp</th>\n",
       "      <th>Parch</th>\n",
       "      <th>Ticket</th>\n",
       "      <th>Fare</th>\n",
       "      <th>Cabin</th>\n",
       "      <th>Embarked</th>\n",
       "    </tr>\n",
       "  </thead>\n",
       "  <tbody>\n",
       "    <tr>\n",
       "      <th>0</th>\n",
       "      <td>train</td>\n",
       "      <td>1</td>\n",
       "      <td>0.0</td>\n",
       "      <td>3</td>\n",
       "      <td>Braund, Mr. Owen Harris</td>\n",
       "      <td>male</td>\n",
       "      <td>22.0</td>\n",
       "      <td>1</td>\n",
       "      <td>0</td>\n",
       "      <td>A/5 21171</td>\n",
       "      <td>7.2500</td>\n",
       "      <td>NaN</td>\n",
       "      <td>S</td>\n",
       "    </tr>\n",
       "    <tr>\n",
       "      <th>1</th>\n",
       "      <td>train</td>\n",
       "      <td>2</td>\n",
       "      <td>1.0</td>\n",
       "      <td>1</td>\n",
       "      <td>Cumings, Mrs. John Bradley (Florence Briggs Th...</td>\n",
       "      <td>female</td>\n",
       "      <td>38.0</td>\n",
       "      <td>1</td>\n",
       "      <td>0</td>\n",
       "      <td>PC 17599</td>\n",
       "      <td>71.2833</td>\n",
       "      <td>C85</td>\n",
       "      <td>C</td>\n",
       "    </tr>\n",
       "    <tr>\n",
       "      <th>2</th>\n",
       "      <td>train</td>\n",
       "      <td>3</td>\n",
       "      <td>1.0</td>\n",
       "      <td>3</td>\n",
       "      <td>Heikkinen, Miss. Laina</td>\n",
       "      <td>female</td>\n",
       "      <td>26.0</td>\n",
       "      <td>0</td>\n",
       "      <td>0</td>\n",
       "      <td>STON/O2. 3101282</td>\n",
       "      <td>7.9250</td>\n",
       "      <td>NaN</td>\n",
       "      <td>S</td>\n",
       "    </tr>\n",
       "  </tbody>\n",
       "</table>\n",
       "</div>"
      ],
      "text/plain": [
       "  Source  PassengerId  Survived  Pclass  \\\n",
       "0  train            1       0.0       3   \n",
       "1  train            2       1.0       1   \n",
       "2  train            3       1.0       3   \n",
       "\n",
       "                                                Name     Sex   Age  SibSp  \\\n",
       "0                            Braund, Mr. Owen Harris    male  22.0      1   \n",
       "1  Cumings, Mrs. John Bradley (Florence Briggs Th...  female  38.0      1   \n",
       "2                             Heikkinen, Miss. Laina  female  26.0      0   \n",
       "\n",
       "   Parch            Ticket     Fare Cabin Embarked  \n",
       "0      0         A/5 21171   7.2500   NaN        S  \n",
       "1      0          PC 17599  71.2833   C85        C  \n",
       "2      0  STON/O2. 3101282   7.9250   NaN        S  "
      ]
     },
     "execution_count": 3,
     "metadata": {},
     "output_type": "execute_result"
    }
   ],
   "source": [
    "# Combined training and testing data together for data cleaning and processing\n",
    "combine = pd.concat([train_data,test_data], keys=['train', 'test']).reset_index().drop('level_1',1).rename({'level_0':'Source'}, axis = 1)\n",
    "combine.head(3)"
   ]
  },
  {
   "cell_type": "markdown",
   "id": "475b8c16",
   "metadata": {
    "papermill": {
     "duration": 0.05837,
     "end_time": "2021-10-16T03:38:32.367871",
     "exception": false,
     "start_time": "2021-10-16T03:38:32.309501",
     "status": "completed"
    },
    "tags": []
   },
   "source": [
    "## EDA \n",
    "* Data cleaning - Null values, data format, data processing\n",
    "* Data Exploration - Distribution, correlation\n",
    "* Make assumptions!"
   ]
  },
  {
   "cell_type": "code",
   "execution_count": 4,
   "id": "106b576a",
   "metadata": {
    "execution": {
     "iopub.execute_input": "2021-10-16T03:38:32.486582Z",
     "iopub.status.busy": "2021-10-16T03:38:32.485848Z",
     "iopub.status.idle": "2021-10-16T03:38:32.502720Z",
     "shell.execute_reply": "2021-10-16T03:38:32.503407Z",
     "shell.execute_reply.started": "2021-10-16T01:35:50.459525Z"
    },
    "papermill": {
     "duration": 0.078407,
     "end_time": "2021-10-16T03:38:32.503614",
     "exception": false,
     "start_time": "2021-10-16T03:38:32.425207",
     "status": "completed"
    },
    "tags": []
   },
   "outputs": [
    {
     "name": "stdout",
     "output_type": "stream",
     "text": [
      "<class 'pandas.core.frame.DataFrame'>\n",
      "RangeIndex: 1309 entries, 0 to 1308\n",
      "Data columns (total 13 columns):\n",
      " #   Column       Non-Null Count  Dtype  \n",
      "---  ------       --------------  -----  \n",
      " 0   Source       1309 non-null   object \n",
      " 1   PassengerId  1309 non-null   int64  \n",
      " 2   Survived     891 non-null    float64\n",
      " 3   Pclass       1309 non-null   int64  \n",
      " 4   Name         1309 non-null   object \n",
      " 5   Sex          1309 non-null   object \n",
      " 6   Age          1046 non-null   float64\n",
      " 7   SibSp        1309 non-null   int64  \n",
      " 8   Parch        1309 non-null   int64  \n",
      " 9   Ticket       1309 non-null   object \n",
      " 10  Fare         1308 non-null   float64\n",
      " 11  Cabin        295 non-null    object \n",
      " 12  Embarked     1307 non-null   object \n",
      "dtypes: float64(3), int64(4), object(6)\n",
      "memory usage: 133.1+ KB\n"
     ]
    }
   ],
   "source": [
    "combine.info()"
   ]
  },
  {
   "cell_type": "code",
   "execution_count": 5,
   "id": "38352bf9",
   "metadata": {
    "execution": {
     "iopub.execute_input": "2021-10-16T03:38:32.624471Z",
     "iopub.status.busy": "2021-10-16T03:38:32.622280Z",
     "iopub.status.idle": "2021-10-16T03:38:32.642404Z",
     "shell.execute_reply": "2021-10-16T03:38:32.643040Z",
     "shell.execute_reply.started": "2021-10-16T01:35:50.47569Z"
    },
    "papermill": {
     "duration": 0.081322,
     "end_time": "2021-10-16T03:38:32.643245",
     "exception": false,
     "start_time": "2021-10-16T03:38:32.561923",
     "status": "completed"
    },
    "tags": []
   },
   "outputs": [
    {
     "data": {
      "text/html": [
       "<div>\n",
       "<style scoped>\n",
       "    .dataframe tbody tr th:only-of-type {\n",
       "        vertical-align: middle;\n",
       "    }\n",
       "\n",
       "    .dataframe tbody tr th {\n",
       "        vertical-align: top;\n",
       "    }\n",
       "\n",
       "    .dataframe thead th {\n",
       "        text-align: right;\n",
       "    }\n",
       "</style>\n",
       "<table border=\"1\" class=\"dataframe\">\n",
       "  <thead>\n",
       "    <tr style=\"text-align: right;\">\n",
       "      <th></th>\n",
       "      <th>Source</th>\n",
       "      <th>PassengerId</th>\n",
       "      <th>Survived</th>\n",
       "      <th>Pclass</th>\n",
       "      <th>Name</th>\n",
       "      <th>Sex</th>\n",
       "      <th>Age</th>\n",
       "      <th>SibSp</th>\n",
       "      <th>Parch</th>\n",
       "      <th>Ticket</th>\n",
       "      <th>Fare</th>\n",
       "      <th>Cabin</th>\n",
       "      <th>Embarked</th>\n",
       "    </tr>\n",
       "  </thead>\n",
       "  <tbody>\n",
       "    <tr>\n",
       "      <th>1</th>\n",
       "      <td>train</td>\n",
       "      <td>2</td>\n",
       "      <td>1.0</td>\n",
       "      <td>1</td>\n",
       "      <td>Cumings, Mrs. John Bradley (Florence Briggs Th...</td>\n",
       "      <td>female</td>\n",
       "      <td>38.0</td>\n",
       "      <td>1</td>\n",
       "      <td>0</td>\n",
       "      <td>PC 17599</td>\n",
       "      <td>71.2833</td>\n",
       "      <td>C85</td>\n",
       "      <td>C</td>\n",
       "    </tr>\n",
       "    <tr>\n",
       "      <th>3</th>\n",
       "      <td>train</td>\n",
       "      <td>4</td>\n",
       "      <td>1.0</td>\n",
       "      <td>1</td>\n",
       "      <td>Futrelle, Mrs. Jacques Heath (Lily May Peel)</td>\n",
       "      <td>female</td>\n",
       "      <td>35.0</td>\n",
       "      <td>1</td>\n",
       "      <td>0</td>\n",
       "      <td>113803</td>\n",
       "      <td>53.1000</td>\n",
       "      <td>C123</td>\n",
       "      <td>S</td>\n",
       "    </tr>\n",
       "    <tr>\n",
       "      <th>6</th>\n",
       "      <td>train</td>\n",
       "      <td>7</td>\n",
       "      <td>0.0</td>\n",
       "      <td>1</td>\n",
       "      <td>McCarthy, Mr. Timothy J</td>\n",
       "      <td>male</td>\n",
       "      <td>54.0</td>\n",
       "      <td>0</td>\n",
       "      <td>0</td>\n",
       "      <td>17463</td>\n",
       "      <td>51.8625</td>\n",
       "      <td>E46</td>\n",
       "      <td>S</td>\n",
       "    </tr>\n",
       "    <tr>\n",
       "      <th>10</th>\n",
       "      <td>train</td>\n",
       "      <td>11</td>\n",
       "      <td>1.0</td>\n",
       "      <td>3</td>\n",
       "      <td>Sandstrom, Miss. Marguerite Rut</td>\n",
       "      <td>female</td>\n",
       "      <td>4.0</td>\n",
       "      <td>1</td>\n",
       "      <td>1</td>\n",
       "      <td>PP 9549</td>\n",
       "      <td>16.7000</td>\n",
       "      <td>G6</td>\n",
       "      <td>S</td>\n",
       "    </tr>\n",
       "    <tr>\n",
       "      <th>11</th>\n",
       "      <td>train</td>\n",
       "      <td>12</td>\n",
       "      <td>1.0</td>\n",
       "      <td>1</td>\n",
       "      <td>Bonnell, Miss. Elizabeth</td>\n",
       "      <td>female</td>\n",
       "      <td>58.0</td>\n",
       "      <td>0</td>\n",
       "      <td>0</td>\n",
       "      <td>113783</td>\n",
       "      <td>26.5500</td>\n",
       "      <td>C103</td>\n",
       "      <td>S</td>\n",
       "    </tr>\n",
       "  </tbody>\n",
       "</table>\n",
       "</div>"
      ],
      "text/plain": [
       "   Source  PassengerId  Survived  Pclass  \\\n",
       "1   train            2       1.0       1   \n",
       "3   train            4       1.0       1   \n",
       "6   train            7       0.0       1   \n",
       "10  train           11       1.0       3   \n",
       "11  train           12       1.0       1   \n",
       "\n",
       "                                                 Name     Sex   Age  SibSp  \\\n",
       "1   Cumings, Mrs. John Bradley (Florence Briggs Th...  female  38.0      1   \n",
       "3        Futrelle, Mrs. Jacques Heath (Lily May Peel)  female  35.0      1   \n",
       "6                             McCarthy, Mr. Timothy J    male  54.0      0   \n",
       "10                    Sandstrom, Miss. Marguerite Rut  female   4.0      1   \n",
       "11                           Bonnell, Miss. Elizabeth  female  58.0      0   \n",
       "\n",
       "    Parch    Ticket     Fare Cabin Embarked  \n",
       "1       0  PC 17599  71.2833   C85        C  \n",
       "3       0    113803  53.1000  C123        S  \n",
       "6       0     17463  51.8625   E46        S  \n",
       "10      1   PP 9549  16.7000    G6        S  \n",
       "11      0    113783  26.5500  C103        S  "
      ]
     },
     "execution_count": 5,
     "metadata": {},
     "output_type": "execute_result"
    }
   ],
   "source": [
    "combine[combine['Cabin'].notnull()].head(5)"
   ]
  },
  {
   "cell_type": "code",
   "execution_count": 6,
   "id": "54663453",
   "metadata": {
    "execution": {
     "iopub.execute_input": "2021-10-16T03:38:32.765424Z",
     "iopub.status.busy": "2021-10-16T03:38:32.764461Z",
     "iopub.status.idle": "2021-10-16T03:38:32.776241Z",
     "shell.execute_reply": "2021-10-16T03:38:32.776870Z",
     "shell.execute_reply.started": "2021-10-16T01:35:50.50495Z"
    },
    "papermill": {
     "duration": 0.075182,
     "end_time": "2021-10-16T03:38:32.777076",
     "exception": false,
     "start_time": "2021-10-16T03:38:32.701894",
     "status": "completed"
    },
    "tags": []
   },
   "outputs": [
    {
     "data": {
      "text/plain": [
       "Source            2\n",
       "PassengerId    1309\n",
       "Survived          2\n",
       "Pclass            3\n",
       "Name           1307\n",
       "Sex               2\n",
       "Age              98\n",
       "SibSp             7\n",
       "Parch             8\n",
       "Ticket          929\n",
       "Fare            281\n",
       "Cabin           186\n",
       "Embarked          3\n",
       "dtype: int64"
      ]
     },
     "execution_count": 6,
     "metadata": {},
     "output_type": "execute_result"
    }
   ],
   "source": [
    "combine.nunique()"
   ]
  },
  {
   "cell_type": "code",
   "execution_count": 7,
   "id": "71435bf0",
   "metadata": {
    "execution": {
     "iopub.execute_input": "2021-10-16T03:38:32.899685Z",
     "iopub.status.busy": "2021-10-16T03:38:32.898818Z",
     "iopub.status.idle": "2021-10-16T03:38:32.930526Z",
     "shell.execute_reply": "2021-10-16T03:38:32.931034Z",
     "shell.execute_reply.started": "2021-10-16T01:35:50.52462Z"
    },
    "papermill": {
     "duration": 0.094249,
     "end_time": "2021-10-16T03:38:32.931238",
     "exception": false,
     "start_time": "2021-10-16T03:38:32.836989",
     "status": "completed"
    },
    "tags": []
   },
   "outputs": [
    {
     "data": {
      "text/html": [
       "<div>\n",
       "<style scoped>\n",
       "    .dataframe tbody tr th:only-of-type {\n",
       "        vertical-align: middle;\n",
       "    }\n",
       "\n",
       "    .dataframe tbody tr th {\n",
       "        vertical-align: top;\n",
       "    }\n",
       "\n",
       "    .dataframe thead th {\n",
       "        text-align: right;\n",
       "    }\n",
       "</style>\n",
       "<table border=\"1\" class=\"dataframe\">\n",
       "  <thead>\n",
       "    <tr style=\"text-align: right;\">\n",
       "      <th></th>\n",
       "      <th>PassengerId</th>\n",
       "      <th>Survived</th>\n",
       "      <th>Pclass</th>\n",
       "      <th>Age</th>\n",
       "      <th>SibSp</th>\n",
       "      <th>Parch</th>\n",
       "      <th>Fare</th>\n",
       "    </tr>\n",
       "  </thead>\n",
       "  <tbody>\n",
       "    <tr>\n",
       "      <th>count</th>\n",
       "      <td>1309.000000</td>\n",
       "      <td>891.000000</td>\n",
       "      <td>1309.000000</td>\n",
       "      <td>1046.000000</td>\n",
       "      <td>1309.000000</td>\n",
       "      <td>1309.000000</td>\n",
       "      <td>1308.000000</td>\n",
       "    </tr>\n",
       "    <tr>\n",
       "      <th>mean</th>\n",
       "      <td>655.000000</td>\n",
       "      <td>0.383838</td>\n",
       "      <td>2.294882</td>\n",
       "      <td>29.881138</td>\n",
       "      <td>0.498854</td>\n",
       "      <td>0.385027</td>\n",
       "      <td>33.295479</td>\n",
       "    </tr>\n",
       "    <tr>\n",
       "      <th>std</th>\n",
       "      <td>378.020061</td>\n",
       "      <td>0.486592</td>\n",
       "      <td>0.837836</td>\n",
       "      <td>14.413493</td>\n",
       "      <td>1.041658</td>\n",
       "      <td>0.865560</td>\n",
       "      <td>51.758668</td>\n",
       "    </tr>\n",
       "    <tr>\n",
       "      <th>min</th>\n",
       "      <td>1.000000</td>\n",
       "      <td>0.000000</td>\n",
       "      <td>1.000000</td>\n",
       "      <td>0.170000</td>\n",
       "      <td>0.000000</td>\n",
       "      <td>0.000000</td>\n",
       "      <td>0.000000</td>\n",
       "    </tr>\n",
       "    <tr>\n",
       "      <th>25%</th>\n",
       "      <td>328.000000</td>\n",
       "      <td>0.000000</td>\n",
       "      <td>2.000000</td>\n",
       "      <td>21.000000</td>\n",
       "      <td>0.000000</td>\n",
       "      <td>0.000000</td>\n",
       "      <td>7.895800</td>\n",
       "    </tr>\n",
       "    <tr>\n",
       "      <th>50%</th>\n",
       "      <td>655.000000</td>\n",
       "      <td>0.000000</td>\n",
       "      <td>3.000000</td>\n",
       "      <td>28.000000</td>\n",
       "      <td>0.000000</td>\n",
       "      <td>0.000000</td>\n",
       "      <td>14.454200</td>\n",
       "    </tr>\n",
       "    <tr>\n",
       "      <th>75%</th>\n",
       "      <td>982.000000</td>\n",
       "      <td>1.000000</td>\n",
       "      <td>3.000000</td>\n",
       "      <td>39.000000</td>\n",
       "      <td>1.000000</td>\n",
       "      <td>0.000000</td>\n",
       "      <td>31.275000</td>\n",
       "    </tr>\n",
       "    <tr>\n",
       "      <th>max</th>\n",
       "      <td>1309.000000</td>\n",
       "      <td>1.000000</td>\n",
       "      <td>3.000000</td>\n",
       "      <td>80.000000</td>\n",
       "      <td>8.000000</td>\n",
       "      <td>9.000000</td>\n",
       "      <td>512.329200</td>\n",
       "    </tr>\n",
       "  </tbody>\n",
       "</table>\n",
       "</div>"
      ],
      "text/plain": [
       "       PassengerId    Survived       Pclass          Age        SibSp  \\\n",
       "count  1309.000000  891.000000  1309.000000  1046.000000  1309.000000   \n",
       "mean    655.000000    0.383838     2.294882    29.881138     0.498854   \n",
       "std     378.020061    0.486592     0.837836    14.413493     1.041658   \n",
       "min       1.000000    0.000000     1.000000     0.170000     0.000000   \n",
       "25%     328.000000    0.000000     2.000000    21.000000     0.000000   \n",
       "50%     655.000000    0.000000     3.000000    28.000000     0.000000   \n",
       "75%     982.000000    1.000000     3.000000    39.000000     1.000000   \n",
       "max    1309.000000    1.000000     3.000000    80.000000     8.000000   \n",
       "\n",
       "             Parch         Fare  \n",
       "count  1309.000000  1308.000000  \n",
       "mean      0.385027    33.295479  \n",
       "std       0.865560    51.758668  \n",
       "min       0.000000     0.000000  \n",
       "25%       0.000000     7.895800  \n",
       "50%       0.000000    14.454200  \n",
       "75%       0.000000    31.275000  \n",
       "max       9.000000   512.329200  "
      ]
     },
     "execution_count": 7,
     "metadata": {},
     "output_type": "execute_result"
    }
   ],
   "source": [
    "combine.describe()"
   ]
  },
  {
   "cell_type": "code",
   "execution_count": 8,
   "id": "cce717e5",
   "metadata": {
    "execution": {
     "iopub.execute_input": "2021-10-16T03:38:33.054470Z",
     "iopub.status.busy": "2021-10-16T03:38:33.053769Z",
     "iopub.status.idle": "2021-10-16T03:38:33.077323Z",
     "shell.execute_reply": "2021-10-16T03:38:33.077892Z",
     "shell.execute_reply.started": "2021-10-16T01:35:50.556844Z"
    },
    "papermill": {
     "duration": 0.086976,
     "end_time": "2021-10-16T03:38:33.078099",
     "exception": false,
     "start_time": "2021-10-16T03:38:32.991123",
     "status": "completed"
    },
    "tags": []
   },
   "outputs": [
    {
     "data": {
      "text/html": [
       "<div>\n",
       "<style scoped>\n",
       "    .dataframe tbody tr th:only-of-type {\n",
       "        vertical-align: middle;\n",
       "    }\n",
       "\n",
       "    .dataframe tbody tr th {\n",
       "        vertical-align: top;\n",
       "    }\n",
       "\n",
       "    .dataframe thead th {\n",
       "        text-align: right;\n",
       "    }\n",
       "</style>\n",
       "<table border=\"1\" class=\"dataframe\">\n",
       "  <thead>\n",
       "    <tr style=\"text-align: right;\">\n",
       "      <th></th>\n",
       "      <th>Source</th>\n",
       "      <th>Name</th>\n",
       "      <th>Sex</th>\n",
       "      <th>Ticket</th>\n",
       "      <th>Cabin</th>\n",
       "      <th>Embarked</th>\n",
       "    </tr>\n",
       "  </thead>\n",
       "  <tbody>\n",
       "    <tr>\n",
       "      <th>count</th>\n",
       "      <td>1309</td>\n",
       "      <td>1309</td>\n",
       "      <td>1309</td>\n",
       "      <td>1309</td>\n",
       "      <td>295</td>\n",
       "      <td>1307</td>\n",
       "    </tr>\n",
       "    <tr>\n",
       "      <th>unique</th>\n",
       "      <td>2</td>\n",
       "      <td>1307</td>\n",
       "      <td>2</td>\n",
       "      <td>929</td>\n",
       "      <td>186</td>\n",
       "      <td>3</td>\n",
       "    </tr>\n",
       "    <tr>\n",
       "      <th>top</th>\n",
       "      <td>train</td>\n",
       "      <td>Connolly, Miss. Kate</td>\n",
       "      <td>male</td>\n",
       "      <td>CA. 2343</td>\n",
       "      <td>C23 C25 C27</td>\n",
       "      <td>S</td>\n",
       "    </tr>\n",
       "    <tr>\n",
       "      <th>freq</th>\n",
       "      <td>891</td>\n",
       "      <td>2</td>\n",
       "      <td>843</td>\n",
       "      <td>11</td>\n",
       "      <td>6</td>\n",
       "      <td>914</td>\n",
       "    </tr>\n",
       "  </tbody>\n",
       "</table>\n",
       "</div>"
      ],
      "text/plain": [
       "       Source                  Name   Sex    Ticket        Cabin Embarked\n",
       "count    1309                  1309  1309      1309          295     1307\n",
       "unique      2                  1307     2       929          186        3\n",
       "top     train  Connolly, Miss. Kate  male  CA. 2343  C23 C25 C27        S\n",
       "freq      891                     2   843        11            6      914"
      ]
     },
     "execution_count": 8,
     "metadata": {},
     "output_type": "execute_result"
    }
   ],
   "source": [
    "# Use describe on Sting type (https://pandas.pydata.org/docs/reference/api/pandas.DataFrame.describe.html) \n",
    "combine.describe(include=['O'])"
   ]
  },
  {
   "cell_type": "code",
   "execution_count": 9,
   "id": "58ce35c1",
   "metadata": {
    "execution": {
     "iopub.execute_input": "2021-10-16T03:38:33.201857Z",
     "iopub.status.busy": "2021-10-16T03:38:33.201179Z",
     "iopub.status.idle": "2021-10-16T03:38:33.207924Z",
     "shell.execute_reply": "2021-10-16T03:38:33.207316Z",
     "shell.execute_reply.started": "2021-10-16T01:35:50.583663Z"
    },
    "papermill": {
     "duration": 0.06997,
     "end_time": "2021-10-16T03:38:33.208088",
     "exception": false,
     "start_time": "2021-10-16T03:38:33.138118",
     "status": "completed"
    },
    "tags": []
   },
   "outputs": [
    {
     "data": {
      "text/plain": [
       "Index(['Source', 'PassengerId', 'Survived', 'Pclass', 'Name', 'Sex', 'Age',\n",
       "       'SibSp', 'Parch', 'Ticket', 'Fare', 'Cabin', 'Embarked'],\n",
       "      dtype='object')"
      ]
     },
     "execution_count": 9,
     "metadata": {},
     "output_type": "execute_result"
    }
   ],
   "source": [
    "combine.columns"
   ]
  },
  {
   "cell_type": "code",
   "execution_count": 10,
   "id": "8228736c",
   "metadata": {
    "execution": {
     "iopub.execute_input": "2021-10-16T03:38:33.336075Z",
     "iopub.status.busy": "2021-10-16T03:38:33.335264Z",
     "iopub.status.idle": "2021-10-16T03:38:33.339280Z",
     "shell.execute_reply": "2021-10-16T03:38:33.338637Z",
     "shell.execute_reply.started": "2021-10-16T02:16:40.438971Z"
    },
    "papermill": {
     "duration": 0.071539,
     "end_time": "2021-10-16T03:38:33.339479",
     "exception": false,
     "start_time": "2021-10-16T03:38:33.267940",
     "status": "completed"
    },
    "tags": []
   },
   "outputs": [],
   "source": [
    "combine_train = combine[combine['Source'] == 'train']"
   ]
  },
  {
   "cell_type": "markdown",
   "id": "86364b97",
   "metadata": {
    "papermill": {
     "duration": 0.059481,
     "end_time": "2021-10-16T03:38:33.460481",
     "exception": false,
     "start_time": "2021-10-16T03:38:33.401000",
     "status": "completed"
    },
    "tags": []
   },
   "source": [
    "## Survived: Survival\n",
    "* 0 = No, 1 = Yes\n",
    "* Categorical\n",
    "* The survival rate increase as Pclass "
   ]
  },
  {
   "cell_type": "code",
   "execution_count": 11,
   "id": "0b09009e",
   "metadata": {
    "execution": {
     "iopub.execute_input": "2021-10-16T03:38:33.584316Z",
     "iopub.status.busy": "2021-10-16T03:38:33.583670Z",
     "iopub.status.idle": "2021-10-16T03:38:33.590435Z",
     "shell.execute_reply": "2021-10-16T03:38:33.589837Z",
     "shell.execute_reply.started": "2021-10-16T01:35:50.590971Z"
    },
    "papermill": {
     "duration": 0.07011,
     "end_time": "2021-10-16T03:38:33.590609",
     "exception": false,
     "start_time": "2021-10-16T03:38:33.520499",
     "status": "completed"
    },
    "tags": []
   },
   "outputs": [],
   "source": [
    "combine['Survived'] = combine['Survived'].astype('Int64')"
   ]
  },
  {
   "cell_type": "markdown",
   "id": "20597453",
   "metadata": {
    "papermill": {
     "duration": 0.059116,
     "end_time": "2021-10-16T03:38:33.709447",
     "exception": false,
     "start_time": "2021-10-16T03:38:33.650331",
     "status": "completed"
    },
    "tags": []
   },
   "source": [
    "### Pclass: A proxy for socio-economic status (SES)\n",
    "* Ticket class\n",
    "* 1 = 1st(Upper), 2 = 2nd(Middle), 3 = 3rd(Lower)\n",
    "* There are no missing value (From info function)\n",
    "* Survival rate: 63% in P1, 47% in P2, 24% in P3"
   ]
  },
  {
   "cell_type": "code",
   "execution_count": 12,
   "id": "f27c3689",
   "metadata": {
    "execution": {
     "iopub.execute_input": "2021-10-16T03:38:33.836893Z",
     "iopub.status.busy": "2021-10-16T03:38:33.836046Z",
     "iopub.status.idle": "2021-10-16T03:38:33.878012Z",
     "shell.execute_reply": "2021-10-16T03:38:33.877455Z",
     "shell.execute_reply.started": "2021-10-16T01:35:50.604204Z"
    },
    "papermill": {
     "duration": 0.108682,
     "end_time": "2021-10-16T03:38:33.878167",
     "exception": false,
     "start_time": "2021-10-16T03:38:33.769485",
     "status": "completed"
    },
    "tags": []
   },
   "outputs": [
    {
     "data": {
      "text/html": [
       "<div>\n",
       "<style scoped>\n",
       "    .dataframe tbody tr th:only-of-type {\n",
       "        vertical-align: middle;\n",
       "    }\n",
       "\n",
       "    .dataframe tbody tr th {\n",
       "        vertical-align: top;\n",
       "    }\n",
       "\n",
       "    .dataframe thead tr th {\n",
       "        text-align: left;\n",
       "    }\n",
       "\n",
       "    .dataframe thead tr:last-of-type th {\n",
       "        text-align: right;\n",
       "    }\n",
       "</style>\n",
       "<table border=\"1\" class=\"dataframe\">\n",
       "  <thead>\n",
       "    <tr>\n",
       "      <th></th>\n",
       "      <th colspan=\"2\" halign=\"left\">PassengerId</th>\n",
       "      <th colspan=\"2\" halign=\"left\">Survived</th>\n",
       "      <th colspan=\"2\" halign=\"left\">Age</th>\n",
       "      <th colspan=\"2\" halign=\"left\">SibSp</th>\n",
       "      <th colspan=\"2\" halign=\"left\">Parch</th>\n",
       "      <th colspan=\"2\" halign=\"left\">Fare</th>\n",
       "    </tr>\n",
       "    <tr>\n",
       "      <th></th>\n",
       "      <th>mean</th>\n",
       "      <th>count</th>\n",
       "      <th>mean</th>\n",
       "      <th>count</th>\n",
       "      <th>mean</th>\n",
       "      <th>count</th>\n",
       "      <th>mean</th>\n",
       "      <th>count</th>\n",
       "      <th>mean</th>\n",
       "      <th>count</th>\n",
       "      <th>mean</th>\n",
       "      <th>count</th>\n",
       "    </tr>\n",
       "    <tr>\n",
       "      <th>Pclass</th>\n",
       "      <th></th>\n",
       "      <th></th>\n",
       "      <th></th>\n",
       "      <th></th>\n",
       "      <th></th>\n",
       "      <th></th>\n",
       "      <th></th>\n",
       "      <th></th>\n",
       "      <th></th>\n",
       "      <th></th>\n",
       "      <th></th>\n",
       "      <th></th>\n",
       "    </tr>\n",
       "  </thead>\n",
       "  <tbody>\n",
       "    <tr>\n",
       "      <th>1</th>\n",
       "      <td>461.597222</td>\n",
       "      <td>216</td>\n",
       "      <td>0.629630</td>\n",
       "      <td>216</td>\n",
       "      <td>38.233441</td>\n",
       "      <td>186</td>\n",
       "      <td>0.416667</td>\n",
       "      <td>216</td>\n",
       "      <td>0.356481</td>\n",
       "      <td>216</td>\n",
       "      <td>84.154687</td>\n",
       "      <td>216</td>\n",
       "    </tr>\n",
       "    <tr>\n",
       "      <th>2</th>\n",
       "      <td>445.956522</td>\n",
       "      <td>184</td>\n",
       "      <td>0.472826</td>\n",
       "      <td>184</td>\n",
       "      <td>29.877630</td>\n",
       "      <td>173</td>\n",
       "      <td>0.402174</td>\n",
       "      <td>184</td>\n",
       "      <td>0.380435</td>\n",
       "      <td>184</td>\n",
       "      <td>20.662183</td>\n",
       "      <td>184</td>\n",
       "    </tr>\n",
       "    <tr>\n",
       "      <th>3</th>\n",
       "      <td>439.154786</td>\n",
       "      <td>491</td>\n",
       "      <td>0.242363</td>\n",
       "      <td>491</td>\n",
       "      <td>25.140620</td>\n",
       "      <td>355</td>\n",
       "      <td>0.615071</td>\n",
       "      <td>491</td>\n",
       "      <td>0.393075</td>\n",
       "      <td>491</td>\n",
       "      <td>13.675550</td>\n",
       "      <td>491</td>\n",
       "    </tr>\n",
       "  </tbody>\n",
       "</table>\n",
       "</div>"
      ],
      "text/plain": [
       "       PassengerId        Survived              Age           SibSp        \\\n",
       "              mean count      mean count       mean count      mean count   \n",
       "Pclass                                                                      \n",
       "1       461.597222   216  0.629630   216  38.233441   186  0.416667   216   \n",
       "2       445.956522   184  0.472826   184  29.877630   173  0.402174   184   \n",
       "3       439.154786   491  0.242363   491  25.140620   355  0.615071   491   \n",
       "\n",
       "           Parch             Fare        \n",
       "            mean count       mean count  \n",
       "Pclass                                   \n",
       "1       0.356481   216  84.154687   216  \n",
       "2       0.380435   184  20.662183   184  \n",
       "3       0.393075   491  13.675550   491  "
      ]
     },
     "execution_count": 12,
     "metadata": {},
     "output_type": "execute_result"
    }
   ],
   "source": [
    "train_data.groupby('Pclass').agg(['mean', 'count'])"
   ]
  },
  {
   "cell_type": "markdown",
   "id": "f017d9d0",
   "metadata": {
    "papermill": {
     "duration": 0.059936,
     "end_time": "2021-10-16T03:38:33.998746",
     "exception": false,
     "start_time": "2021-10-16T03:38:33.938810",
     "status": "completed"
    },
    "tags": []
   },
   "source": [
    "## Sex\n",
    "* No missing value \n",
    "* Need to change datatype\n",
    "* Summary: \n",
    "    * Female has hight survival rate, but number of passengers are lesser compares to male\n",
    "    * The distribution are similar for male and female\n",
    "    * SibSp, Parch and Fare are higher in female than male"
   ]
  },
  {
   "cell_type": "code",
   "execution_count": 13,
   "id": "0eabdf3f",
   "metadata": {
    "execution": {
     "iopub.execute_input": "2021-10-16T03:38:34.128731Z",
     "iopub.status.busy": "2021-10-16T03:38:34.127738Z",
     "iopub.status.idle": "2021-10-16T03:38:34.160123Z",
     "shell.execute_reply": "2021-10-16T03:38:34.159597Z",
     "shell.execute_reply.started": "2021-10-16T01:35:50.642792Z"
    },
    "papermill": {
     "duration": 0.100487,
     "end_time": "2021-10-16T03:38:34.160283",
     "exception": false,
     "start_time": "2021-10-16T03:38:34.059796",
     "status": "completed"
    },
    "tags": []
   },
   "outputs": [
    {
     "data": {
      "text/html": [
       "<div>\n",
       "<style scoped>\n",
       "    .dataframe tbody tr th:only-of-type {\n",
       "        vertical-align: middle;\n",
       "    }\n",
       "\n",
       "    .dataframe tbody tr th {\n",
       "        vertical-align: top;\n",
       "    }\n",
       "\n",
       "    .dataframe thead tr th {\n",
       "        text-align: left;\n",
       "    }\n",
       "\n",
       "    .dataframe thead tr:last-of-type th {\n",
       "        text-align: right;\n",
       "    }\n",
       "</style>\n",
       "<table border=\"1\" class=\"dataframe\">\n",
       "  <thead>\n",
       "    <tr>\n",
       "      <th></th>\n",
       "      <th colspan=\"2\" halign=\"left\">PassengerId</th>\n",
       "      <th colspan=\"2\" halign=\"left\">Survived</th>\n",
       "      <th colspan=\"2\" halign=\"left\">Pclass</th>\n",
       "      <th colspan=\"2\" halign=\"left\">Age</th>\n",
       "      <th colspan=\"2\" halign=\"left\">SibSp</th>\n",
       "      <th colspan=\"2\" halign=\"left\">Parch</th>\n",
       "      <th colspan=\"2\" halign=\"left\">Fare</th>\n",
       "    </tr>\n",
       "    <tr>\n",
       "      <th></th>\n",
       "      <th>mean</th>\n",
       "      <th>count</th>\n",
       "      <th>mean</th>\n",
       "      <th>count</th>\n",
       "      <th>mean</th>\n",
       "      <th>count</th>\n",
       "      <th>mean</th>\n",
       "      <th>count</th>\n",
       "      <th>mean</th>\n",
       "      <th>count</th>\n",
       "      <th>mean</th>\n",
       "      <th>count</th>\n",
       "      <th>mean</th>\n",
       "      <th>count</th>\n",
       "    </tr>\n",
       "    <tr>\n",
       "      <th>Sex</th>\n",
       "      <th></th>\n",
       "      <th></th>\n",
       "      <th></th>\n",
       "      <th></th>\n",
       "      <th></th>\n",
       "      <th></th>\n",
       "      <th></th>\n",
       "      <th></th>\n",
       "      <th></th>\n",
       "      <th></th>\n",
       "      <th></th>\n",
       "      <th></th>\n",
       "      <th></th>\n",
       "      <th></th>\n",
       "    </tr>\n",
       "  </thead>\n",
       "  <tbody>\n",
       "    <tr>\n",
       "      <th>female</th>\n",
       "      <td>431.028662</td>\n",
       "      <td>314</td>\n",
       "      <td>0.742038</td>\n",
       "      <td>314</td>\n",
       "      <td>2.159236</td>\n",
       "      <td>314</td>\n",
       "      <td>27.915709</td>\n",
       "      <td>261</td>\n",
       "      <td>0.694268</td>\n",
       "      <td>314</td>\n",
       "      <td>0.649682</td>\n",
       "      <td>314</td>\n",
       "      <td>44.479818</td>\n",
       "      <td>314</td>\n",
       "    </tr>\n",
       "    <tr>\n",
       "      <th>male</th>\n",
       "      <td>454.147314</td>\n",
       "      <td>577</td>\n",
       "      <td>0.188908</td>\n",
       "      <td>577</td>\n",
       "      <td>2.389948</td>\n",
       "      <td>577</td>\n",
       "      <td>30.726645</td>\n",
       "      <td>453</td>\n",
       "      <td>0.429809</td>\n",
       "      <td>577</td>\n",
       "      <td>0.235702</td>\n",
       "      <td>577</td>\n",
       "      <td>25.523893</td>\n",
       "      <td>577</td>\n",
       "    </tr>\n",
       "  </tbody>\n",
       "</table>\n",
       "</div>"
      ],
      "text/plain": [
       "       PassengerId        Survived          Pclass              Age        \\\n",
       "              mean count      mean count      mean count       mean count   \n",
       "Sex                                                                         \n",
       "female  431.028662   314  0.742038   314  2.159236   314  27.915709   261   \n",
       "male    454.147314   577  0.188908   577  2.389948   577  30.726645   453   \n",
       "\n",
       "           SibSp           Parch             Fare        \n",
       "            mean count      mean count       mean count  \n",
       "Sex                                                      \n",
       "female  0.694268   314  0.649682   314  44.479818   314  \n",
       "male    0.429809   577  0.235702   577  25.523893   577  "
      ]
     },
     "execution_count": 13,
     "metadata": {},
     "output_type": "execute_result"
    }
   ],
   "source": [
    "train_data.groupby('Sex').agg(['mean', 'count'])"
   ]
  },
  {
   "cell_type": "code",
   "execution_count": 14,
   "id": "48aa937e",
   "metadata": {
    "execution": {
     "iopub.execute_input": "2021-10-16T03:38:34.294644Z",
     "iopub.status.busy": "2021-10-16T03:38:34.293941Z",
     "iopub.status.idle": "2021-10-16T03:38:34.879546Z",
     "shell.execute_reply": "2021-10-16T03:38:34.878864Z",
     "shell.execute_reply.started": "2021-10-16T01:35:50.681684Z"
    },
    "papermill": {
     "duration": 0.658584,
     "end_time": "2021-10-16T03:38:34.879746",
     "exception": false,
     "start_time": "2021-10-16T03:38:34.221162",
     "status": "completed"
    },
    "tags": []
   },
   "outputs": [
    {
     "data": {
      "text/plain": [
       "<seaborn.axisgrid.FacetGrid at 0x7fce916d1d50>"
      ]
     },
     "execution_count": 14,
     "metadata": {},
     "output_type": "execute_result"
    },
    {
     "data": {
      "image/png": "[encoded data removed]",
      "text/plain": [
       "<Figure size 720x360 with 2 Axes>"
      ]
     },
     "metadata": {
      "needs_background": "light"
     },
     "output_type": "display_data"
    }
   ],
   "source": [
    "sns.displot(\n",
    "        data = train_data,\n",
    "        x = train_data['Age'],\n",
    "        col = train_data['Sex'],\n",
    "        alpha = 0.5\n",
    ")"
   ]
  },
  {
   "cell_type": "code",
   "execution_count": 15,
   "id": "5b7db19c",
   "metadata": {
    "execution": {
     "iopub.execute_input": "2021-10-16T03:38:35.008968Z",
     "iopub.status.busy": "2021-10-16T03:38:35.008287Z",
     "iopub.status.idle": "2021-10-16T03:38:35.016685Z",
     "shell.execute_reply": "2021-10-16T03:38:35.017189Z",
     "shell.execute_reply.started": "2021-10-16T01:37:19.714709Z"
    },
    "papermill": {
     "duration": 0.075113,
     "end_time": "2021-10-16T03:38:35.017381",
     "exception": false,
     "start_time": "2021-10-16T03:38:34.942268",
     "status": "completed"
    },
    "tags": []
   },
   "outputs": [],
   "source": [
    "# combine['Sex'].replace(['male','female'],[0, 1], inplace = True)\n",
    "combine['Sex'] = combine['Sex'].map({'female': 0, 'male': 1}).astype(int)\n",
    "train_data['Sex'] = train_data['Sex'].map({'female': 0, 'male': 1}).astype(int)"
   ]
  },
  {
   "cell_type": "markdown",
   "id": "382cfc85",
   "metadata": {
    "papermill": {
     "duration": 0.062592,
     "end_time": "2021-10-16T03:38:35.142110",
     "exception": false,
     "start_time": "2021-10-16T03:38:35.079518",
     "status": "completed"
    },
    "tags": []
   },
   "source": [
    "## Age\n",
    "* ~20% of null values"
   ]
  },
  {
   "cell_type": "code",
   "execution_count": 16,
   "id": "eb7d4014",
   "metadata": {
    "execution": {
     "iopub.execute_input": "2021-10-16T03:38:35.272157Z",
     "iopub.status.busy": "2021-10-16T03:38:35.268000Z",
     "iopub.status.idle": "2021-10-16T03:38:35.274907Z",
     "shell.execute_reply": "2021-10-16T03:38:35.275420Z",
     "shell.execute_reply.started": "2021-10-16T01:35:51.317952Z"
    },
    "papermill": {
     "duration": 0.072391,
     "end_time": "2021-10-16T03:38:35.275594",
     "exception": false,
     "start_time": "2021-10-16T03:38:35.203203",
     "status": "completed"
    },
    "tags": []
   },
   "outputs": [
    {
     "data": {
      "text/plain": [
       "19.87"
      ]
     },
     "execution_count": 16,
     "metadata": {},
     "output_type": "execute_result"
    }
   ],
   "source": [
    "round(train_data['Age'].isnull().sum()/len(train_data['Age'])*100,2)"
   ]
  },
  {
   "cell_type": "code",
   "execution_count": 17,
   "id": "6b85e2e5",
   "metadata": {
    "execution": {
     "iopub.execute_input": "2021-10-16T03:38:35.423961Z",
     "iopub.status.busy": "2021-10-16T03:38:35.413336Z",
     "iopub.status.idle": "2021-10-16T03:38:36.670499Z",
     "shell.execute_reply": "2021-10-16T03:38:36.669863Z",
     "shell.execute_reply.started": "2021-10-16T01:35:51.331258Z"
    },
    "papermill": {
     "duration": 1.331579,
     "end_time": "2021-10-16T03:38:36.670655",
     "exception": false,
     "start_time": "2021-10-16T03:38:35.339076",
     "status": "completed"
    },
    "tags": []
   },
   "outputs": [
    {
     "data": {
      "text/plain": [
       "<seaborn.axisgrid.FacetGrid at 0x7fce8947ebd0>"
      ]
     },
     "execution_count": 17,
     "metadata": {},
     "output_type": "execute_result"
    },
    {
     "data": {
      "image/png": "[encoded data removed]",
      "text/plain": [
       "<Figure size 762.375x360 with 2 Axes>"
      ]
     },
     "metadata": {
      "needs_background": "light"
     },
     "output_type": "display_data"
    }
   ],
   "source": [
    "sns.displot(\n",
    "        data = train_data,\n",
    "        x = train_data['Age'],\n",
    "        hue = train_data['Pclass'],\n",
    "        col = train_data['Survived']\n",
    ")"
   ]
  },
  {
   "cell_type": "code",
   "execution_count": 18,
   "id": "9040627e",
   "metadata": {
    "_kg_hide-input": true,
    "execution": {
     "iopub.execute_input": "2021-10-16T03:38:36.804766Z",
     "iopub.status.busy": "2021-10-16T03:38:36.804112Z",
     "iopub.status.idle": "2021-10-16T03:38:38.265872Z",
     "shell.execute_reply": "2021-10-16T03:38:38.265270Z",
     "shell.execute_reply.started": "2021-10-16T01:35:52.413838Z"
    },
    "papermill": {
     "duration": 1.531187,
     "end_time": "2021-10-16T03:38:38.266028",
     "exception": false,
     "start_time": "2021-10-16T03:38:36.734841",
     "status": "completed"
    },
    "tags": []
   },
   "outputs": [
    {
     "data": {
      "text/plain": [
       "<seaborn.axisgrid.FacetGrid at 0x7fce8947e210>"
      ]
     },
     "execution_count": 18,
     "metadata": {},
     "output_type": "execute_result"
    },
    {
     "data": {
      "image/png": "[encoded data removed]",
      "text/plain": [
       "<Figure size 691.2x648 with 6 Axes>"
      ]
     },
     "metadata": {
      "needs_background": "light"
     },
     "output_type": "display_data"
    }
   ],
   "source": [
    "# Split view\n",
    "g = sns.FacetGrid(train_data, col = 'Survived', row = 'Pclass', aspect = 1.6)\n",
    "g.map(plt.hist, 'Age', bins = 10)"
   ]
  },
  {
   "cell_type": "code",
   "execution_count": 19,
   "id": "90639604",
   "metadata": {
    "execution": {
     "iopub.execute_input": "2021-10-16T03:38:38.403413Z",
     "iopub.status.busy": "2021-10-16T03:38:38.398782Z",
     "iopub.status.idle": "2021-10-16T03:38:40.127201Z",
     "shell.execute_reply": "2021-10-16T03:38:40.126300Z",
     "shell.execute_reply.started": "2021-10-16T02:05:39.246034Z"
    },
    "papermill": {
     "duration": 1.797167,
     "end_time": "2021-10-16T03:38:40.127402",
     "exception": false,
     "start_time": "2021-10-16T03:38:38.330235",
     "status": "completed"
    },
    "tags": []
   },
   "outputs": [
    {
     "data": {
      "text/plain": [
       "<seaborn.axisgrid.FacetGrid at 0x7fce89228590>"
      ]
     },
     "execution_count": 19,
     "metadata": {},
     "output_type": "execute_result"
    },
    {
     "data": {
      "image/png": "[encoded data removed]",
      "text/plain": [
       "<Figure size 699.875x432 with 6 Axes>"
      ]
     },
     "metadata": {
      "needs_background": "light"
     },
     "output_type": "display_data"
    }
   ],
   "source": [
    "h = sns.FacetGrid(train_data, row = 'Sex', col = 'Pclass', hue = 'Survived')\n",
    "h.map(plt.hist, 'Age', alpha = .75)\n",
    "h.add_legend()"
   ]
  },
  {
   "cell_type": "code",
   "execution_count": 20,
   "id": "6878d7a5",
   "metadata": {
    "execution": {
     "iopub.execute_input": "2021-10-16T03:38:40.264613Z",
     "iopub.status.busy": "2021-10-16T03:38:40.262003Z",
     "iopub.status.idle": "2021-10-16T03:38:40.274728Z",
     "shell.execute_reply": "2021-10-16T03:38:40.275292Z",
     "shell.execute_reply.started": "2021-10-16T01:35:54.017039Z"
    },
    "papermill": {
     "duration": 0.082779,
     "end_time": "2021-10-16T03:38:40.275488",
     "exception": false,
     "start_time": "2021-10-16T03:38:40.192709",
     "status": "completed"
    },
    "tags": []
   },
   "outputs": [],
   "source": [
    "# Method1: Fill the null value by using random numbers between 68% and assume normal distribution\n",
    "#for df in combine:\n",
    "#    age_avg = df['Age'].mean()\n",
    "#    age_std = df['Age'].std()\n",
    "#    age_null_count = df['Age'].isnull().sum()\n",
    "    \n",
    "#    age_null_random_list = np.random.randint(age_avg - age_std, age_avg + age_std, size=age_null_count)\n",
    "#    df['Age'][np.isnan(df['Age'])] = age_null_random_list\n",
    "#    df['Age'] = df['Age'].astype(int)\n",
    "    \n",
    "#train_data['CategoricalAge'] = pd.cut(train_data['Age'], 5)\n",
    "\n",
    "\n",
    "# Filling the missing values in Age with the medians of Sex and Pclass groups\n",
    "combine['Age'] = combine.groupby(['Sex', 'Pclass'])['Age'].apply(lambda x: x.fillna(x.median())).astype('int')"
   ]
  },
  {
   "cell_type": "code",
   "execution_count": 21,
   "id": "0afcd130",
   "metadata": {
    "execution": {
     "iopub.execute_input": "2021-10-16T03:38:40.419894Z",
     "iopub.status.busy": "2021-10-16T03:38:40.412113Z",
     "iopub.status.idle": "2021-10-16T03:38:40.440801Z",
     "shell.execute_reply": "2021-10-16T03:38:40.440253Z",
     "shell.execute_reply.started": "2021-10-16T01:35:54.032696Z"
    },
    "papermill": {
     "duration": 0.098774,
     "end_time": "2021-10-16T03:38:40.440951",
     "exception": false,
     "start_time": "2021-10-16T03:38:40.342177",
     "status": "completed"
    },
    "tags": []
   },
   "outputs": [
    {
     "data": {
      "text/html": [
       "<div>\n",
       "<style scoped>\n",
       "    .dataframe tbody tr th:only-of-type {\n",
       "        vertical-align: middle;\n",
       "    }\n",
       "\n",
       "    .dataframe tbody tr th {\n",
       "        vertical-align: top;\n",
       "    }\n",
       "\n",
       "    .dataframe thead th {\n",
       "        text-align: right;\n",
       "    }\n",
       "</style>\n",
       "<table border=\"1\" class=\"dataframe\">\n",
       "  <thead>\n",
       "    <tr style=\"text-align: right;\">\n",
       "      <th></th>\n",
       "      <th>Survived</th>\n",
       "    </tr>\n",
       "    <tr>\n",
       "      <th>Age_Group</th>\n",
       "      <th></th>\n",
       "    </tr>\n",
       "  </thead>\n",
       "  <tbody>\n",
       "    <tr>\n",
       "      <th>(-0.08, 16.0]</th>\n",
       "      <td>0.55</td>\n",
       "    </tr>\n",
       "    <tr>\n",
       "      <th>(16.0, 32.0]</th>\n",
       "      <td>0.337</td>\n",
       "    </tr>\n",
       "    <tr>\n",
       "      <th>(32.0, 48.0]</th>\n",
       "      <td>0.412</td>\n",
       "    </tr>\n",
       "    <tr>\n",
       "      <th>(48.0, 64.0]</th>\n",
       "      <td>0.435</td>\n",
       "    </tr>\n",
       "    <tr>\n",
       "      <th>(64.0, 80.0]</th>\n",
       "      <td>0.091</td>\n",
       "    </tr>\n",
       "  </tbody>\n",
       "</table>\n",
       "</div>"
      ],
      "text/plain": [
       "               Survived\n",
       "Age_Group              \n",
       "(-0.08, 16.0]      0.55\n",
       "(16.0, 32.0]      0.337\n",
       "(32.0, 48.0]      0.412\n",
       "(48.0, 64.0]      0.435\n",
       "(64.0, 80.0]      0.091"
      ]
     },
     "execution_count": 21,
     "metadata": {},
     "output_type": "execute_result"
    }
   ],
   "source": [
    "combine['Age_Group'] = pd.cut(combine['Age'], 5)\n",
    "round(combine[['Age_Group', 'Survived']].groupby(['Age_Group']).mean(),3)"
   ]
  },
  {
   "cell_type": "code",
   "execution_count": 22,
   "id": "79048223",
   "metadata": {
    "execution": {
     "iopub.execute_input": "2021-10-16T03:38:40.591181Z",
     "iopub.status.busy": "2021-10-16T03:38:40.590099Z",
     "iopub.status.idle": "2021-10-16T03:38:40.598142Z",
     "shell.execute_reply": "2021-10-16T03:38:40.597433Z",
     "shell.execute_reply.started": "2021-10-16T01:35:54.059699Z"
    },
    "papermill": {
     "duration": 0.090272,
     "end_time": "2021-10-16T03:38:40.598303",
     "exception": false,
     "start_time": "2021-10-16T03:38:40.508031",
     "status": "completed"
    },
    "tags": []
   },
   "outputs": [],
   "source": [
    "combine['Age_Group'] = combine['Age_Group'].astype('string')\n",
    "\n",
    "combine['Age_Group'] = combine['Age_Group'].replace(\n",
    "    {'(-0.08, 16.0]': 1, \n",
    "     '(16.0, 32.0]': 2, \n",
    "     '(32.0, 48.0]': 3, \n",
    "     '(48.0, 64.0]': 4,\n",
    "    '(64.0, 80.0]': 5} ).astype(int)"
   ]
  },
  {
   "cell_type": "code",
   "execution_count": 23,
   "id": "bb47291e",
   "metadata": {
    "execution": {
     "iopub.execute_input": "2021-10-16T03:38:40.740123Z",
     "iopub.status.busy": "2021-10-16T03:38:40.738994Z",
     "iopub.status.idle": "2021-10-16T03:38:41.989047Z",
     "shell.execute_reply": "2021-10-16T03:38:41.988510Z",
     "shell.execute_reply.started": "2021-10-16T01:35:54.079967Z"
    },
    "papermill": {
     "duration": 1.324274,
     "end_time": "2021-10-16T03:38:41.989204",
     "exception": false,
     "start_time": "2021-10-16T03:38:40.664930",
     "status": "completed"
    },
    "tags": []
   },
   "outputs": [
    {
     "data": {
      "image/png": "[encoded data removed]",
      "text/plain": [
       "<Figure size 1080x360 with 3 Axes>"
      ]
     },
     "metadata": {
      "needs_background": "light"
     },
     "output_type": "display_data"
    }
   ],
   "source": [
    "sns.factorplot('Age_Group','Survived',data = combine[combine['Source'] == 'train'], col = 'Pclass')\n",
    "plt.show()"
   ]
  },
  {
   "cell_type": "markdown",
   "id": "a8433891",
   "metadata": {
    "papermill": {
     "duration": 0.067742,
     "end_time": "2021-10-16T03:38:42.125591",
     "exception": false,
     "start_time": "2021-10-16T03:38:42.057849",
     "status": "completed"
    },
    "tags": []
   },
   "source": [
    "## Sibsp & Parch\n",
    "* Sibsp: # of siblings / spouses aboard the Titanic\n",
    "* parch: # of parents / children aboard the Titanic"
   ]
  },
  {
   "cell_type": "code",
   "execution_count": 24,
   "id": "e28dcac1",
   "metadata": {
    "execution": {
     "iopub.execute_input": "2021-10-16T03:38:42.269784Z",
     "iopub.status.busy": "2021-10-16T03:38:42.263840Z",
     "iopub.status.idle": "2021-10-16T03:38:42.551152Z",
     "shell.execute_reply": "2021-10-16T03:38:42.550580Z",
     "shell.execute_reply.started": "2021-10-16T01:35:55.134284Z"
    },
    "papermill": {
     "duration": 0.358038,
     "end_time": "2021-10-16T03:38:42.551317",
     "exception": false,
     "start_time": "2021-10-16T03:38:42.193279",
     "status": "completed"
    },
    "tags": []
   },
   "outputs": [
    {
     "data": {
      "image/png": "[encoded data removed]",
      "text/plain": [
       "<Figure size 576x360 with 1 Axes>"
      ]
     },
     "metadata": {
      "needs_background": "light"
     },
     "output_type": "display_data"
    }
   ],
   "source": [
    "plt.figure(figsize = (8,5))\n",
    "sns.countplot(x=\"SibSp\", hue='Survived', data= train_data)\n",
    "plt.show()"
   ]
  },
  {
   "cell_type": "code",
   "execution_count": 25,
   "id": "711f4b66",
   "metadata": {
    "execution": {
     "iopub.execute_input": "2021-10-16T03:38:42.692161Z",
     "iopub.status.busy": "2021-10-16T03:38:42.691428Z",
     "iopub.status.idle": "2021-10-16T03:38:43.131447Z",
     "shell.execute_reply": "2021-10-16T03:38:43.131981Z",
     "shell.execute_reply.started": "2021-10-16T01:35:55.410597Z"
    },
    "papermill": {
     "duration": 0.512523,
     "end_time": "2021-10-16T03:38:43.132183",
     "exception": false,
     "start_time": "2021-10-16T03:38:42.619660",
     "status": "completed"
    },
    "tags": []
   },
   "outputs": [
    {
     "data": {
      "image/png": "[encoded data removed]",
      "text/plain": [
       "<Figure size 576x360 with 1 Axes>"
      ]
     },
     "metadata": {
      "needs_background": "light"
     },
     "output_type": "display_data"
    }
   ],
   "source": [
    "plt.figure(figsize = (8,5))\n",
    "sns.barplot(\"SibSp\", 'Survived', data= train_data)\n",
    "plt.show()"
   ]
  },
  {
   "cell_type": "code",
   "execution_count": 26,
   "id": "207a1502",
   "metadata": {
    "execution": {
     "iopub.execute_input": "2021-10-16T03:38:43.274676Z",
     "iopub.status.busy": "2021-10-16T03:38:43.273802Z",
     "iopub.status.idle": "2021-10-16T03:38:43.524190Z",
     "shell.execute_reply": "2021-10-16T03:38:43.524842Z",
     "shell.execute_reply.started": "2021-10-16T01:35:55.856665Z"
    },
    "papermill": {
     "duration": 0.323405,
     "end_time": "2021-10-16T03:38:43.525086",
     "exception": false,
     "start_time": "2021-10-16T03:38:43.201681",
     "status": "completed"
    },
    "tags": []
   },
   "outputs": [
    {
     "data": {
      "image/png": "[encoded data removed]",
      "text/plain": [
       "<Figure size 576x360 with 1 Axes>"
      ]
     },
     "metadata": {
      "needs_background": "light"
     },
     "output_type": "display_data"
    }
   ],
   "source": [
    "plt.figure(figsize = (8,5))\n",
    "sns.countplot(x=\"Parch\", hue='Survived', data= train_data)\n",
    "plt.show()"
   ]
  },
  {
   "cell_type": "code",
   "execution_count": 27,
   "id": "bcad970c",
   "metadata": {
    "execution": {
     "iopub.execute_input": "2021-10-16T03:38:43.668876Z",
     "iopub.status.busy": "2021-10-16T03:38:43.668177Z",
     "iopub.status.idle": "2021-10-16T03:38:44.079213Z",
     "shell.execute_reply": "2021-10-16T03:38:44.078653Z",
     "shell.execute_reply.started": "2021-10-16T01:35:56.117807Z"
    },
    "papermill": {
     "duration": 0.483716,
     "end_time": "2021-10-16T03:38:44.079374",
     "exception": false,
     "start_time": "2021-10-16T03:38:43.595658",
     "status": "completed"
    },
    "tags": []
   },
   "outputs": [
    {
     "data": {
      "image/png": "[encoded data removed]",
      "text/plain": [
       "<Figure size 576x360 with 1 Axes>"
      ]
     },
     "metadata": {
      "needs_background": "light"
     },
     "output_type": "display_data"
    }
   ],
   "source": [
    "plt.figure(figsize = (8,5))\n",
    "sns.barplot(\"Parch\", 'Survived', data= train_data)\n",
    "plt.show()"
   ]
  },
  {
   "cell_type": "code",
   "execution_count": 28,
   "id": "5c78b65f",
   "metadata": {
    "execution": {
     "iopub.execute_input": "2021-10-16T03:38:44.232481Z",
     "iopub.status.busy": "2021-10-16T03:38:44.231155Z",
     "iopub.status.idle": "2021-10-16T03:38:44.233162Z",
     "shell.execute_reply": "2021-10-16T03:38:44.233696Z",
     "shell.execute_reply.started": "2021-10-16T01:35:56.525021Z"
    },
    "papermill": {
     "duration": 0.082762,
     "end_time": "2021-10-16T03:38:44.233865",
     "exception": false,
     "start_time": "2021-10-16T03:38:44.151103",
     "status": "completed"
    },
    "tags": []
   },
   "outputs": [],
   "source": [
    "combine['Family_Size'] = combine['SibSp'] + combine['Parch'] + 1\n",
    "    \n",
    "# Create new feature IsAlone from FamilySize\n",
    "combine['Is_Alone'] = 0\n",
    "combine.loc[combine['Family_Size'] == 1, 'Is_Alone'] = 1"
   ]
  },
  {
   "cell_type": "code",
   "execution_count": 29,
   "id": "c1dfd097",
   "metadata": {
    "execution": {
     "iopub.execute_input": "2021-10-16T03:38:44.383606Z",
     "iopub.status.busy": "2021-10-16T03:38:44.382921Z",
     "iopub.status.idle": "2021-10-16T03:38:44.683199Z",
     "shell.execute_reply": "2021-10-16T03:38:44.682690Z",
     "shell.execute_reply.started": "2021-10-16T01:35:56.534905Z"
    },
    "papermill": {
     "duration": 0.379193,
     "end_time": "2021-10-16T03:38:44.683346",
     "exception": false,
     "start_time": "2021-10-16T03:38:44.304153",
     "status": "completed"
    },
    "tags": []
   },
   "outputs": [
    {
     "data": {
      "image/png": "[encoded data removed]",
      "text/plain": [
       "<Figure size 576x360 with 1 Axes>"
      ]
     },
     "metadata": {
      "needs_background": "light"
     },
     "output_type": "display_data"
    }
   ],
   "source": [
    "plt.figure(figsize = (8,5))\n",
    "sns.countplot(x=\"Family_Size\", hue='Survived', data= combine[combine['Source'] == 'train'])\n",
    "plt.show()"
   ]
  },
  {
   "cell_type": "code",
   "execution_count": 30,
   "id": "4c35da17",
   "metadata": {
    "execution": {
     "iopub.execute_input": "2021-10-16T03:38:44.832198Z",
     "iopub.status.busy": "2021-10-16T03:38:44.831536Z",
     "iopub.status.idle": "2021-10-16T03:38:45.358873Z",
     "shell.execute_reply": "2021-10-16T03:38:45.358302Z",
     "shell.execute_reply.started": "2021-10-16T01:35:56.852694Z"
    },
    "papermill": {
     "duration": 0.604549,
     "end_time": "2021-10-16T03:38:45.359013",
     "exception": false,
     "start_time": "2021-10-16T03:38:44.754464",
     "status": "completed"
    },
    "tags": []
   },
   "outputs": [
    {
     "data": {
      "image/png": "[encoded data removed]",
      "text/plain": [
       "<Figure size 576x360 with 1 Axes>"
      ]
     },
     "metadata": {
      "needs_background": "light"
     },
     "output_type": "display_data"
    }
   ],
   "source": [
    "plt.figure(figsize = (8,5))\n",
    "sns.barplot(\"Family_Size\", 'Survived', data= combine[combine['Source'] == 'train'])\n",
    "plt.show()"
   ]
  },
  {
   "cell_type": "markdown",
   "id": "67edb7cb",
   "metadata": {
    "papermill": {
     "duration": 0.070741,
     "end_time": "2021-10-16T03:38:45.501213",
     "exception": false,
     "start_time": "2021-10-16T03:38:45.430472",
     "status": "completed"
    },
    "tags": []
   },
   "source": [
    "## Cabin: \n",
    "* 77.1% is null values"
   ]
  },
  {
   "cell_type": "code",
   "execution_count": 31,
   "id": "ddaf9d93",
   "metadata": {
    "execution": {
     "iopub.execute_input": "2021-10-16T03:38:45.653307Z",
     "iopub.status.busy": "2021-10-16T03:38:45.652644Z",
     "iopub.status.idle": "2021-10-16T03:38:45.655292Z",
     "shell.execute_reply": "2021-10-16T03:38:45.655801Z",
     "shell.execute_reply.started": "2021-10-16T01:35:57.383024Z"
    },
    "papermill": {
     "duration": 0.083347,
     "end_time": "2021-10-16T03:38:45.655994",
     "exception": false,
     "start_time": "2021-10-16T03:38:45.572647",
     "status": "completed"
    },
    "tags": []
   },
   "outputs": [
    {
     "data": {
      "text/plain": [
       "77.1"
      ]
     },
     "execution_count": 31,
     "metadata": {},
     "output_type": "execute_result"
    }
   ],
   "source": [
    "round(train_data['Cabin'].isnull().sum()/len(train_data['Cabin'])*100,2)"
   ]
  },
  {
   "cell_type": "code",
   "execution_count": 32,
   "id": "9158b515",
   "metadata": {
    "execution": {
     "iopub.execute_input": "2021-10-16T03:38:45.805137Z",
     "iopub.status.busy": "2021-10-16T03:38:45.804167Z",
     "iopub.status.idle": "2021-10-16T03:38:45.812316Z",
     "shell.execute_reply": "2021-10-16T03:38:45.812993Z",
     "shell.execute_reply.started": "2021-10-16T01:35:57.394105Z"
    },
    "papermill": {
     "duration": 0.084554,
     "end_time": "2021-10-16T03:38:45.813195",
     "exception": false,
     "start_time": "2021-10-16T03:38:45.728641",
     "status": "completed"
    },
    "tags": []
   },
   "outputs": [
    {
     "data": {
      "text/plain": [
       "NaN    1014\n",
       "C        94\n",
       "B        65\n",
       "D        46\n",
       "E        41\n",
       "A        22\n",
       "F        21\n",
       "G         5\n",
       "T         1\n",
       "Name: Cabin, dtype: int64"
      ]
     },
     "execution_count": 32,
     "metadata": {},
     "output_type": "execute_result"
    }
   ],
   "source": [
    "combine['Cabin'].str[0].value_counts(dropna = False)"
   ]
  },
  {
   "cell_type": "code",
   "execution_count": 33,
   "id": "737801f0",
   "metadata": {
    "execution": {
     "iopub.execute_input": "2021-10-16T03:38:45.988129Z",
     "iopub.status.busy": "2021-10-16T03:38:45.987452Z",
     "iopub.status.idle": "2021-10-16T03:38:45.988828Z",
     "shell.execute_reply": "2021-10-16T03:38:45.989443Z",
     "shell.execute_reply.started": "2021-10-16T01:35:57.407665Z"
    },
    "papermill": {
     "duration": 0.091083,
     "end_time": "2021-10-16T03:38:45.989635",
     "exception": false,
     "start_time": "2021-10-16T03:38:45.898552",
     "status": "completed"
    },
    "tags": []
   },
   "outputs": [],
   "source": [
    "# Question: Why Cabin_app can not show the entire value but 3...?\n",
    "# g = sns.FacetGrid(combine[combine['Source'] == 'train'], col =[\"Pclass\",\"Cabin_abb\"], hue=\"Survived\")\n",
    "# g.map(sns.countplot, \"Cabin_abb\", alpha=.7, palette=\"Set3\")\n",
    "# plt.show()"
   ]
  },
  {
   "cell_type": "markdown",
   "id": "f58067f2",
   "metadata": {
    "papermill": {
     "duration": 0.073651,
     "end_time": "2021-10-16T03:38:46.150162",
     "exception": false,
     "start_time": "2021-10-16T03:38:46.076511",
     "status": "completed"
    },
    "tags": []
   },
   "source": [
    "## Embark: Port of Embarkation\n",
    "* C = Cherbourg, Q = Queenstown, S = Southampton\n",
    "* only two null value"
   ]
  },
  {
   "cell_type": "code",
   "execution_count": 34,
   "id": "4fbbab94",
   "metadata": {
    "execution": {
     "iopub.execute_input": "2021-10-16T03:38:46.314245Z",
     "iopub.status.busy": "2021-10-16T03:38:46.313596Z",
     "iopub.status.idle": "2021-10-16T03:38:46.322897Z",
     "shell.execute_reply": "2021-10-16T03:38:46.323509Z",
     "shell.execute_reply.started": "2021-10-16T01:35:57.417306Z"
    },
    "papermill": {
     "duration": 0.090033,
     "end_time": "2021-10-16T03:38:46.323701",
     "exception": false,
     "start_time": "2021-10-16T03:38:46.233668",
     "status": "completed"
    },
    "tags": []
   },
   "outputs": [
    {
     "data": {
      "text/plain": [
       "S    644\n",
       "C    168\n",
       "Q     77\n",
       "Name: Embarked, dtype: int64"
      ]
     },
     "execution_count": 34,
     "metadata": {},
     "output_type": "execute_result"
    }
   ],
   "source": [
    "train_data['Embarked'].value_counts()"
   ]
  },
  {
   "cell_type": "code",
   "execution_count": 35,
   "id": "2a97d8ef",
   "metadata": {
    "execution": {
     "iopub.execute_input": "2021-10-16T03:38:46.474983Z",
     "iopub.status.busy": "2021-10-16T03:38:46.474253Z",
     "iopub.status.idle": "2021-10-16T03:38:46.495392Z",
     "shell.execute_reply": "2021-10-16T03:38:46.495918Z",
     "shell.execute_reply.started": "2021-10-16T01:35:57.434102Z"
    },
    "papermill": {
     "duration": 0.098225,
     "end_time": "2021-10-16T03:38:46.496086",
     "exception": false,
     "start_time": "2021-10-16T03:38:46.397861",
     "status": "completed"
    },
    "tags": []
   },
   "outputs": [
    {
     "data": {
      "text/html": [
       "<div>\n",
       "<style scoped>\n",
       "    .dataframe tbody tr th:only-of-type {\n",
       "        vertical-align: middle;\n",
       "    }\n",
       "\n",
       "    .dataframe tbody tr th {\n",
       "        vertical-align: top;\n",
       "    }\n",
       "\n",
       "    .dataframe thead th {\n",
       "        text-align: right;\n",
       "    }\n",
       "</style>\n",
       "<table border=\"1\" class=\"dataframe\">\n",
       "  <thead>\n",
       "    <tr style=\"text-align: right;\">\n",
       "      <th></th>\n",
       "      <th>PassengerId</th>\n",
       "      <th>Survived</th>\n",
       "      <th>Pclass</th>\n",
       "      <th>Name</th>\n",
       "      <th>Sex</th>\n",
       "      <th>Age</th>\n",
       "      <th>SibSp</th>\n",
       "      <th>Parch</th>\n",
       "      <th>Ticket</th>\n",
       "      <th>Fare</th>\n",
       "      <th>Cabin</th>\n",
       "      <th>Embarked</th>\n",
       "    </tr>\n",
       "  </thead>\n",
       "  <tbody>\n",
       "    <tr>\n",
       "      <th>61</th>\n",
       "      <td>62</td>\n",
       "      <td>1</td>\n",
       "      <td>1</td>\n",
       "      <td>Icard, Miss. Amelie</td>\n",
       "      <td>0</td>\n",
       "      <td>38.0</td>\n",
       "      <td>0</td>\n",
       "      <td>0</td>\n",
       "      <td>113572</td>\n",
       "      <td>80.0</td>\n",
       "      <td>B28</td>\n",
       "      <td>NaN</td>\n",
       "    </tr>\n",
       "    <tr>\n",
       "      <th>829</th>\n",
       "      <td>830</td>\n",
       "      <td>1</td>\n",
       "      <td>1</td>\n",
       "      <td>Stone, Mrs. George Nelson (Martha Evelyn)</td>\n",
       "      <td>0</td>\n",
       "      <td>62.0</td>\n",
       "      <td>0</td>\n",
       "      <td>0</td>\n",
       "      <td>113572</td>\n",
       "      <td>80.0</td>\n",
       "      <td>B28</td>\n",
       "      <td>NaN</td>\n",
       "    </tr>\n",
       "  </tbody>\n",
       "</table>\n",
       "</div>"
      ],
      "text/plain": [
       "     PassengerId  Survived  Pclass                                       Name  \\\n",
       "61            62         1       1                        Icard, Miss. Amelie   \n",
       "829          830         1       1  Stone, Mrs. George Nelson (Martha Evelyn)   \n",
       "\n",
       "     Sex   Age  SibSp  Parch  Ticket  Fare Cabin Embarked  \n",
       "61     0  38.0      0      0  113572  80.0   B28      NaN  \n",
       "829    0  62.0      0      0  113572  80.0   B28      NaN  "
      ]
     },
     "execution_count": 35,
     "metadata": {},
     "output_type": "execute_result"
    }
   ],
   "source": [
    "# Pull the null values \n",
    "train_data[train_data['Embarked'].isnull()]"
   ]
  },
  {
   "cell_type": "code",
   "execution_count": 36,
   "id": "7493fdb7",
   "metadata": {
    "execution": {
     "iopub.execute_input": "2021-10-16T03:38:46.654065Z",
     "iopub.status.busy": "2021-10-16T03:38:46.649136Z",
     "iopub.status.idle": "2021-10-16T03:38:46.662725Z",
     "shell.execute_reply": "2021-10-16T03:38:46.663484Z",
     "shell.execute_reply.started": "2021-10-16T01:35:57.457739Z"
    },
    "papermill": {
     "duration": 0.092564,
     "end_time": "2021-10-16T03:38:46.663736",
     "exception": false,
     "start_time": "2021-10-16T03:38:46.571172",
     "status": "completed"
    },
    "tags": []
   },
   "outputs": [
    {
     "data": {
      "text/plain": [
       "Embarked  Pclass\n",
       "S         3         353\n",
       "          2         164\n",
       "          1         127\n",
       "C         1          85\n",
       "Q         3          72\n",
       "C         3          66\n",
       "          2          17\n",
       "Q         2           3\n",
       "          1           2\n",
       "dtype: int64"
      ]
     },
     "execution_count": 36,
     "metadata": {},
     "output_type": "execute_result"
    }
   ],
   "source": [
    "# Check the frequency\n",
    "train_data[['Embarked','Pclass']].value_counts()"
   ]
  },
  {
   "cell_type": "code",
   "execution_count": 37,
   "id": "b0f05982",
   "metadata": {
    "execution": {
     "iopub.execute_input": "2021-10-16T03:38:46.828049Z",
     "iopub.status.busy": "2021-10-16T03:38:46.827315Z",
     "iopub.status.idle": "2021-10-16T03:38:46.837626Z",
     "shell.execute_reply": "2021-10-16T03:38:46.838264Z",
     "shell.execute_reply.started": "2021-10-16T01:35:57.474588Z"
    },
    "papermill": {
     "duration": 0.092368,
     "end_time": "2021-10-16T03:38:46.838463",
     "exception": false,
     "start_time": "2021-10-16T03:38:46.746095",
     "status": "completed"
    },
    "tags": []
   },
   "outputs": [
    {
     "data": {
      "text/html": [
       "<div>\n",
       "<style scoped>\n",
       "    .dataframe tbody tr th:only-of-type {\n",
       "        vertical-align: middle;\n",
       "    }\n",
       "\n",
       "    .dataframe tbody tr th {\n",
       "        vertical-align: top;\n",
       "    }\n",
       "\n",
       "    .dataframe thead th {\n",
       "        text-align: right;\n",
       "    }\n",
       "</style>\n",
       "<table border=\"1\" class=\"dataframe\">\n",
       "  <thead>\n",
       "    <tr style=\"text-align: right;\">\n",
       "      <th></th>\n",
       "      <th></th>\n",
       "      <th></th>\n",
       "      <th>0</th>\n",
       "    </tr>\n",
       "    <tr>\n",
       "      <th>Embarked</th>\n",
       "      <th>Pclass</th>\n",
       "      <th>Survived</th>\n",
       "      <th></th>\n",
       "    </tr>\n",
       "  </thead>\n",
       "  <tbody>\n",
       "    <tr>\n",
       "      <th rowspan=\"5\" valign=\"top\">S</th>\n",
       "      <th>3</th>\n",
       "      <th>0</th>\n",
       "      <td>286</td>\n",
       "    </tr>\n",
       "    <tr>\n",
       "      <th rowspan=\"2\" valign=\"top\">2</th>\n",
       "      <th>0</th>\n",
       "      <td>88</td>\n",
       "    </tr>\n",
       "    <tr>\n",
       "      <th>1</th>\n",
       "      <td>76</td>\n",
       "    </tr>\n",
       "    <tr>\n",
       "      <th>1</th>\n",
       "      <th>1</th>\n",
       "      <td>74</td>\n",
       "    </tr>\n",
       "    <tr>\n",
       "      <th>3</th>\n",
       "      <th>1</th>\n",
       "      <td>67</td>\n",
       "    </tr>\n",
       "    <tr>\n",
       "      <th>C</th>\n",
       "      <th>1</th>\n",
       "      <th>1</th>\n",
       "      <td>59</td>\n",
       "    </tr>\n",
       "    <tr>\n",
       "      <th>S</th>\n",
       "      <th>1</th>\n",
       "      <th>0</th>\n",
       "      <td>53</td>\n",
       "    </tr>\n",
       "    <tr>\n",
       "      <th>Q</th>\n",
       "      <th>3</th>\n",
       "      <th>0</th>\n",
       "      <td>45</td>\n",
       "    </tr>\n",
       "    <tr>\n",
       "      <th>C</th>\n",
       "      <th>3</th>\n",
       "      <th>0</th>\n",
       "      <td>41</td>\n",
       "    </tr>\n",
       "    <tr>\n",
       "      <th>Q</th>\n",
       "      <th>3</th>\n",
       "      <th>1</th>\n",
       "      <td>27</td>\n",
       "    </tr>\n",
       "    <tr>\n",
       "      <th rowspan=\"4\" valign=\"top\">C</th>\n",
       "      <th>1</th>\n",
       "      <th>0</th>\n",
       "      <td>26</td>\n",
       "    </tr>\n",
       "    <tr>\n",
       "      <th>3</th>\n",
       "      <th>1</th>\n",
       "      <td>25</td>\n",
       "    </tr>\n",
       "    <tr>\n",
       "      <th rowspan=\"2\" valign=\"top\">2</th>\n",
       "      <th>1</th>\n",
       "      <td>9</td>\n",
       "    </tr>\n",
       "    <tr>\n",
       "      <th>0</th>\n",
       "      <td>8</td>\n",
       "    </tr>\n",
       "    <tr>\n",
       "      <th rowspan=\"4\" valign=\"top\">Q</th>\n",
       "      <th rowspan=\"2\" valign=\"top\">2</th>\n",
       "      <th>1</th>\n",
       "      <td>2</td>\n",
       "    </tr>\n",
       "    <tr>\n",
       "      <th>0</th>\n",
       "      <td>1</td>\n",
       "    </tr>\n",
       "    <tr>\n",
       "      <th rowspan=\"2\" valign=\"top\">1</th>\n",
       "      <th>1</th>\n",
       "      <td>1</td>\n",
       "    </tr>\n",
       "    <tr>\n",
       "      <th>0</th>\n",
       "      <td>1</td>\n",
       "    </tr>\n",
       "  </tbody>\n",
       "</table>\n",
       "</div>"
      ],
      "text/plain": [
       "                            0\n",
       "Embarked Pclass Survived     \n",
       "S        3      0         286\n",
       "         2      0          88\n",
       "                1          76\n",
       "         1      1          74\n",
       "         3      1          67\n",
       "C        1      1          59\n",
       "S        1      0          53\n",
       "Q        3      0          45\n",
       "C        3      0          41\n",
       "Q        3      1          27\n",
       "C        1      0          26\n",
       "         3      1          25\n",
       "         2      1           9\n",
       "                0           8\n",
       "Q        2      1           2\n",
       "                0           1\n",
       "         1      1           1\n",
       "                0           1"
      ]
     },
     "execution_count": 37,
     "metadata": {},
     "output_type": "execute_result"
    }
   ],
   "source": [
    "pd.DataFrame(combine[['Embarked', 'Pclass', 'Survived']].value_counts())"
   ]
  },
  {
   "cell_type": "code",
   "execution_count": 38,
   "id": "33a76530",
   "metadata": {
    "execution": {
     "iopub.execute_input": "2021-10-16T03:38:46.991500Z",
     "iopub.status.busy": "2021-10-16T03:38:46.990761Z",
     "iopub.status.idle": "2021-10-16T03:38:47.002976Z",
     "shell.execute_reply": "2021-10-16T03:38:47.003486Z",
     "shell.execute_reply.started": "2021-10-16T01:35:57.496502Z"
    },
    "papermill": {
     "duration": 0.091304,
     "end_time": "2021-10-16T03:38:47.003683",
     "exception": false,
     "start_time": "2021-10-16T03:38:46.912379",
     "status": "completed"
    },
    "tags": []
   },
   "outputs": [
    {
     "data": {
      "text/html": [
       "<div>\n",
       "<style scoped>\n",
       "    .dataframe tbody tr th:only-of-type {\n",
       "        vertical-align: middle;\n",
       "    }\n",
       "\n",
       "    .dataframe tbody tr th {\n",
       "        vertical-align: top;\n",
       "    }\n",
       "\n",
       "    .dataframe thead th {\n",
       "        text-align: right;\n",
       "    }\n",
       "</style>\n",
       "<table border=\"1\" class=\"dataframe\">\n",
       "  <thead>\n",
       "    <tr style=\"text-align: right;\">\n",
       "      <th></th>\n",
       "      <th>Survived</th>\n",
       "    </tr>\n",
       "    <tr>\n",
       "      <th>Embarked</th>\n",
       "      <th></th>\n",
       "    </tr>\n",
       "  </thead>\n",
       "  <tbody>\n",
       "    <tr>\n",
       "      <th>C</th>\n",
       "      <td>0.553571</td>\n",
       "    </tr>\n",
       "    <tr>\n",
       "      <th>Q</th>\n",
       "      <td>0.389610</td>\n",
       "    </tr>\n",
       "    <tr>\n",
       "      <th>S</th>\n",
       "      <td>0.336957</td>\n",
       "    </tr>\n",
       "  </tbody>\n",
       "</table>\n",
       "</div>"
      ],
      "text/plain": [
       "          Survived\n",
       "Embarked          \n",
       "C         0.553571\n",
       "Q         0.389610\n",
       "S         0.336957"
      ]
     },
     "execution_count": 38,
     "metadata": {},
     "output_type": "execute_result"
    }
   ],
   "source": [
    "train_data[['Embarked', 'Survived']].groupby(['Embarked']).mean().sort_values(by='Survived', ascending=False)"
   ]
  },
  {
   "cell_type": "code",
   "execution_count": 39,
   "id": "d775670c",
   "metadata": {
    "execution": {
     "iopub.execute_input": "2021-10-16T03:38:47.156908Z",
     "iopub.status.busy": "2021-10-16T03:38:47.156166Z",
     "iopub.status.idle": "2021-10-16T03:38:47.163549Z",
     "shell.execute_reply": "2021-10-16T03:38:47.162847Z",
     "shell.execute_reply.started": "2021-10-16T01:35:57.514223Z"
    },
    "papermill": {
     "duration": 0.085465,
     "end_time": "2021-10-16T03:38:47.163706",
     "exception": false,
     "start_time": "2021-10-16T03:38:47.078241",
     "status": "completed"
    },
    "tags": []
   },
   "outputs": [],
   "source": [
    "# Fillna with the most frequent: Though C Embarked will have higher survival rate, but the frequncy is higher in 'S'\n",
    "combine['Embarked'] = combine['Embarked'].fillna('S')"
   ]
  },
  {
   "cell_type": "code",
   "execution_count": 40,
   "id": "82fcd07a",
   "metadata": {
    "execution": {
     "iopub.execute_input": "2021-10-16T03:38:47.321876Z",
     "iopub.status.busy": "2021-10-16T03:38:47.321202Z",
     "iopub.status.idle": "2021-10-16T03:38:47.324350Z",
     "shell.execute_reply": "2021-10-16T03:38:47.323863Z",
     "shell.execute_reply.started": "2021-10-16T02:21:58.764152Z"
    },
    "papermill": {
     "duration": 0.086079,
     "end_time": "2021-10-16T03:38:47.324537",
     "exception": false,
     "start_time": "2021-10-16T03:38:47.238458",
     "status": "completed"
    },
    "tags": []
   },
   "outputs": [],
   "source": [
    "combine['Embarked'] = combine['Embarked'].map( {'S': 0, 'C': 1, 'Q': 2} ).astype(int)"
   ]
  },
  {
   "cell_type": "markdown",
   "id": "b04b2468",
   "metadata": {
    "papermill": {
     "duration": 0.073896,
     "end_time": "2021-10-16T03:38:47.472343",
     "exception": false,
     "start_time": "2021-10-16T03:38:47.398447",
     "status": "completed"
    },
    "tags": []
   },
   "source": [
    "## Fair: "
   ]
  },
  {
   "cell_type": "code",
   "execution_count": 41,
   "id": "429611b7",
   "metadata": {
    "execution": {
     "iopub.execute_input": "2021-10-16T03:38:47.624269Z",
     "iopub.status.busy": "2021-10-16T03:38:47.623294Z",
     "iopub.status.idle": "2021-10-16T03:38:47.633473Z",
     "shell.execute_reply": "2021-10-16T03:38:47.633949Z",
     "shell.execute_reply.started": "2021-10-16T01:35:57.52096Z"
    },
    "papermill": {
     "duration": 0.087667,
     "end_time": "2021-10-16T03:38:47.634125",
     "exception": false,
     "start_time": "2021-10-16T03:38:47.546458",
     "status": "completed"
    },
    "tags": []
   },
   "outputs": [],
   "source": [
    "# Filling the missing values in Fare with the median of Sex and Pclass groups\n",
    "combine['Fare'] = combine.groupby(['Sex', 'Pclass'])['Fare'].apply(lambda x: x.fillna(x.median())).astype('float')"
   ]
  },
  {
   "cell_type": "code",
   "execution_count": 42,
   "id": "e84fab41",
   "metadata": {
    "execution": {
     "iopub.execute_input": "2021-10-16T03:38:47.789032Z",
     "iopub.status.busy": "2021-10-16T03:38:47.788050Z",
     "iopub.status.idle": "2021-10-16T03:38:48.824589Z",
     "shell.execute_reply": "2021-10-16T03:38:48.825112Z",
     "shell.execute_reply.started": "2021-10-16T01:35:57.539638Z"
    },
    "papermill": {
     "duration": 1.115776,
     "end_time": "2021-10-16T03:38:48.825368",
     "exception": false,
     "start_time": "2021-10-16T03:38:47.709592",
     "status": "completed"
    },
    "tags": []
   },
   "outputs": [
    {
     "data": {
      "text/plain": [
       "<seaborn.axisgrid.FacetGrid at 0x7fce88e84dd0>"
      ]
     },
     "execution_count": 42,
     "metadata": {},
     "output_type": "execute_result"
    },
    {
     "data": {
      "image/png": "[encoded data removed]",
      "text/plain": [
       "<Figure size 720x360 with 2 Axes>"
      ]
     },
     "metadata": {
      "needs_background": "light"
     },
     "output_type": "display_data"
    }
   ],
   "source": [
    "sns.displot(\n",
    "        data = train_data,\n",
    "        x = train_data['Fare'],\n",
    "        col = train_data['Survived']\n",
    ")"
   ]
  },
  {
   "cell_type": "code",
   "execution_count": 43,
   "id": "8e368d4b",
   "metadata": {
    "execution": {
     "iopub.execute_input": "2021-10-16T03:38:48.986652Z",
     "iopub.status.busy": "2021-10-16T03:38:48.982113Z",
     "iopub.status.idle": "2021-10-16T03:38:49.000150Z",
     "shell.execute_reply": "2021-10-16T03:38:48.999620Z",
     "shell.execute_reply.started": "2021-10-16T03:17:13.462236Z"
    },
    "papermill": {
     "duration": 0.099857,
     "end_time": "2021-10-16T03:38:49.000300",
     "exception": false,
     "start_time": "2021-10-16T03:38:48.900443",
     "status": "completed"
    },
    "tags": []
   },
   "outputs": [
    {
     "data": {
      "text/html": [
       "<div>\n",
       "<style scoped>\n",
       "    .dataframe tbody tr th:only-of-type {\n",
       "        vertical-align: middle;\n",
       "    }\n",
       "\n",
       "    .dataframe tbody tr th {\n",
       "        vertical-align: top;\n",
       "    }\n",
       "\n",
       "    .dataframe thead th {\n",
       "        text-align: right;\n",
       "    }\n",
       "</style>\n",
       "<table border=\"1\" class=\"dataframe\">\n",
       "  <thead>\n",
       "    <tr style=\"text-align: right;\">\n",
       "      <th></th>\n",
       "      <th>Survived</th>\n",
       "    </tr>\n",
       "    <tr>\n",
       "      <th>Fare_Group</th>\n",
       "      <th></th>\n",
       "    </tr>\n",
       "  </thead>\n",
       "  <tbody>\n",
       "    <tr>\n",
       "      <th>1</th>\n",
       "      <td>0.368</td>\n",
       "    </tr>\n",
       "    <tr>\n",
       "      <th>2</th>\n",
       "      <td>0.724</td>\n",
       "    </tr>\n",
       "    <tr>\n",
       "      <th>3</th>\n",
       "      <td>0.667</td>\n",
       "    </tr>\n",
       "    <tr>\n",
       "      <th>4</th>\n",
       "      <td>1.0</td>\n",
       "    </tr>\n",
       "  </tbody>\n",
       "</table>\n",
       "</div>"
      ],
      "text/plain": [
       "            Survived\n",
       "Fare_Group          \n",
       "1              0.368\n",
       "2              0.724\n",
       "3              0.667\n",
       "4                1.0"
      ]
     },
     "execution_count": 43,
     "metadata": {},
     "output_type": "execute_result"
    }
   ],
   "source": [
    "combine['Fare_Group'] = pd.cut(combine['Fare'], 4, labels = [1, 2, 3, 4])\n",
    "round(combine[['Fare_Group', 'Survived']].groupby(['Fare_Group']).mean(),3)"
   ]
  },
  {
   "cell_type": "code",
   "execution_count": 44,
   "id": "e1a2bf38",
   "metadata": {
    "execution": {
     "iopub.execute_input": "2021-10-16T03:38:49.162992Z",
     "iopub.status.busy": "2021-10-16T03:38:49.159134Z",
     "iopub.status.idle": "2021-10-16T03:38:49.965944Z",
     "shell.execute_reply": "2021-10-16T03:38:49.965314Z",
     "shell.execute_reply.started": "2021-10-16T01:35:58.564732Z"
    },
    "papermill": {
     "duration": 0.88969,
     "end_time": "2021-10-16T03:38:49.966103",
     "exception": false,
     "start_time": "2021-10-16T03:38:49.076413",
     "status": "completed"
    },
    "tags": []
   },
   "outputs": [
    {
     "data": {
      "image/png": "[encoded data removed]",
      "text/plain": [
       "<Figure size 1080x360 with 3 Axes>"
      ]
     },
     "metadata": {
      "needs_background": "light"
     },
     "output_type": "display_data"
    }
   ],
   "source": [
    "sns.factorplot('Fare_Group','Survived',data = combine[combine['Source'] == 'train'], col = 'Pclass')\n",
    "plt.show()"
   ]
  },
  {
   "cell_type": "markdown",
   "id": "15022b7f",
   "metadata": {
    "papermill": {
     "duration": 0.076799,
     "end_time": "2021-10-16T03:38:50.122763",
     "exception": false,
     "start_time": "2021-10-16T03:38:50.045964",
     "status": "completed"
    },
    "tags": []
   },
   "source": [
    "## Title: \n",
    "* Title can be indicate age and sex. From the previous exploratory analysis, we know female has higher survival rate, so as yound kids.  \n",
    "* Use this to make the info more informative"
   ]
  },
  {
   "cell_type": "code",
   "execution_count": 45,
   "id": "2ce0ebd5",
   "metadata": {
    "execution": {
     "iopub.execute_input": "2021-10-16T03:38:50.293610Z",
     "iopub.status.busy": "2021-10-16T03:38:50.291918Z",
     "iopub.status.idle": "2021-10-16T03:38:50.314109Z",
     "shell.execute_reply": "2021-10-16T03:38:50.313530Z",
     "shell.execute_reply.started": "2021-10-16T02:17:24.589527Z"
    },
    "papermill": {
     "duration": 0.112684,
     "end_time": "2021-10-16T03:38:50.314265",
     "exception": false,
     "start_time": "2021-10-16T03:38:50.201581",
     "status": "completed"
    },
    "tags": []
   },
   "outputs": [
    {
     "data": {
      "text/html": [
       "<div>\n",
       "<style scoped>\n",
       "    .dataframe tbody tr th:only-of-type {\n",
       "        vertical-align: middle;\n",
       "    }\n",
       "\n",
       "    .dataframe tbody tr th {\n",
       "        vertical-align: top;\n",
       "    }\n",
       "\n",
       "    .dataframe thead th {\n",
       "        text-align: right;\n",
       "    }\n",
       "</style>\n",
       "<table border=\"1\" class=\"dataframe\">\n",
       "  <thead>\n",
       "    <tr style=\"text-align: right;\">\n",
       "      <th>Sex</th>\n",
       "      <th>0</th>\n",
       "      <th>1</th>\n",
       "    </tr>\n",
       "    <tr>\n",
       "      <th>Title</th>\n",
       "      <th></th>\n",
       "      <th></th>\n",
       "    </tr>\n",
       "  </thead>\n",
       "  <tbody>\n",
       "    <tr>\n",
       "      <th>Capt</th>\n",
       "      <td>0</td>\n",
       "      <td>1</td>\n",
       "    </tr>\n",
       "    <tr>\n",
       "      <th>Col</th>\n",
       "      <td>0</td>\n",
       "      <td>4</td>\n",
       "    </tr>\n",
       "    <tr>\n",
       "      <th>Countess</th>\n",
       "      <td>1</td>\n",
       "      <td>0</td>\n",
       "    </tr>\n",
       "    <tr>\n",
       "      <th>Don</th>\n",
       "      <td>0</td>\n",
       "      <td>1</td>\n",
       "    </tr>\n",
       "    <tr>\n",
       "      <th>Dona</th>\n",
       "      <td>1</td>\n",
       "      <td>0</td>\n",
       "    </tr>\n",
       "    <tr>\n",
       "      <th>Dr</th>\n",
       "      <td>1</td>\n",
       "      <td>7</td>\n",
       "    </tr>\n",
       "    <tr>\n",
       "      <th>Jonkheer</th>\n",
       "      <td>0</td>\n",
       "      <td>1</td>\n",
       "    </tr>\n",
       "    <tr>\n",
       "      <th>Lady</th>\n",
       "      <td>1</td>\n",
       "      <td>0</td>\n",
       "    </tr>\n",
       "    <tr>\n",
       "      <th>Major</th>\n",
       "      <td>0</td>\n",
       "      <td>2</td>\n",
       "    </tr>\n",
       "    <tr>\n",
       "      <th>Master</th>\n",
       "      <td>0</td>\n",
       "      <td>61</td>\n",
       "    </tr>\n",
       "    <tr>\n",
       "      <th>Miss</th>\n",
       "      <td>260</td>\n",
       "      <td>0</td>\n",
       "    </tr>\n",
       "    <tr>\n",
       "      <th>Mlle</th>\n",
       "      <td>2</td>\n",
       "      <td>0</td>\n",
       "    </tr>\n",
       "    <tr>\n",
       "      <th>Mme</th>\n",
       "      <td>1</td>\n",
       "      <td>0</td>\n",
       "    </tr>\n",
       "    <tr>\n",
       "      <th>Mr</th>\n",
       "      <td>0</td>\n",
       "      <td>757</td>\n",
       "    </tr>\n",
       "    <tr>\n",
       "      <th>Mrs</th>\n",
       "      <td>197</td>\n",
       "      <td>0</td>\n",
       "    </tr>\n",
       "    <tr>\n",
       "      <th>Ms</th>\n",
       "      <td>2</td>\n",
       "      <td>0</td>\n",
       "    </tr>\n",
       "    <tr>\n",
       "      <th>Rev</th>\n",
       "      <td>0</td>\n",
       "      <td>8</td>\n",
       "    </tr>\n",
       "    <tr>\n",
       "      <th>Sir</th>\n",
       "      <td>0</td>\n",
       "      <td>1</td>\n",
       "    </tr>\n",
       "  </tbody>\n",
       "</table>\n",
       "</div>"
      ],
      "text/plain": [
       "Sex         0    1\n",
       "Title             \n",
       "Capt        0    1\n",
       "Col         0    4\n",
       "Countess    1    0\n",
       "Don         0    1\n",
       "Dona        1    0\n",
       "Dr          1    7\n",
       "Jonkheer    0    1\n",
       "Lady        1    0\n",
       "Major       0    2\n",
       "Master      0   61\n",
       "Miss      260    0\n",
       "Mlle        2    0\n",
       "Mme         1    0\n",
       "Mr          0  757\n",
       "Mrs       197    0\n",
       "Ms          2    0\n",
       "Rev         0    8\n",
       "Sir         0    1"
      ]
     },
     "execution_count": 45,
     "metadata": {},
     "output_type": "execute_result"
    }
   ],
   "source": [
    "combine['Title'] = combine.Name.str.extract(' ([A-Za-z]+)\\.', expand=False)\n",
    "pd.crosstab(combine['Title'], combine['Sex'])"
   ]
  },
  {
   "cell_type": "code",
   "execution_count": 46,
   "id": "b9caa934",
   "metadata": {
    "execution": {
     "iopub.execute_input": "2021-10-16T03:38:50.487149Z",
     "iopub.status.busy": "2021-10-16T03:38:50.486454Z",
     "iopub.status.idle": "2021-10-16T03:38:50.495017Z",
     "shell.execute_reply": "2021-10-16T03:38:50.495657Z",
     "shell.execute_reply.started": "2021-10-16T03:18:43.296089Z"
    },
    "papermill": {
     "duration": 0.103903,
     "end_time": "2021-10-16T03:38:50.495871",
     "exception": false,
     "start_time": "2021-10-16T03:38:50.391968",
     "status": "completed"
    },
    "tags": []
   },
   "outputs": [
    {
     "data": {
      "text/html": [
       "<div>\n",
       "<style scoped>\n",
       "    .dataframe tbody tr th:only-of-type {\n",
       "        vertical-align: middle;\n",
       "    }\n",
       "\n",
       "    .dataframe tbody tr th {\n",
       "        vertical-align: top;\n",
       "    }\n",
       "\n",
       "    .dataframe thead th {\n",
       "        text-align: right;\n",
       "    }\n",
       "</style>\n",
       "<table border=\"1\" class=\"dataframe\">\n",
       "  <thead>\n",
       "    <tr style=\"text-align: right;\">\n",
       "      <th></th>\n",
       "      <th>Survived</th>\n",
       "    </tr>\n",
       "    <tr>\n",
       "      <th>Title</th>\n",
       "      <th></th>\n",
       "    </tr>\n",
       "  </thead>\n",
       "  <tbody>\n",
       "    <tr>\n",
       "      <th>Mrs</th>\n",
       "      <td>0.793651</td>\n",
       "    </tr>\n",
       "    <tr>\n",
       "      <th>Miss</th>\n",
       "      <td>0.702703</td>\n",
       "    </tr>\n",
       "    <tr>\n",
       "      <th>Master</th>\n",
       "      <td>0.575</td>\n",
       "    </tr>\n",
       "    <tr>\n",
       "      <th>Other</th>\n",
       "      <td>0.347826</td>\n",
       "    </tr>\n",
       "    <tr>\n",
       "      <th>Mr</th>\n",
       "      <td>0.156673</td>\n",
       "    </tr>\n",
       "  </tbody>\n",
       "</table>\n",
       "</div>"
      ],
      "text/plain": [
       "        Survived\n",
       "Title           \n",
       "Mrs     0.793651\n",
       "Miss    0.702703\n",
       "Master     0.575\n",
       "Other   0.347826\n",
       "Mr      0.156673"
      ]
     },
     "execution_count": 46,
     "metadata": {},
     "output_type": "execute_result"
    }
   ],
   "source": [
    "combine['Title'] = combine['Title'].replace(['Capt','Col','Countess','Don','Dona', 'Dr','Lady', 'Major','Jonkheer', 'Rev', 'Sir'], 'Other')\n",
    "combine['Title'] = combine['Title'].replace(['Mlle', 'Ms'], 'Miss')\n",
    "combine['Title'] = combine['Title'].replace('Mme', 'Mrs')\n",
    "\n",
    "combine_train = combine[combine['Source'] == 'train']\n",
    "combine_train[['Title', 'Survived']].groupby(['Title']).mean().sort_values(by= 'Survived', ascending = False)"
   ]
  },
  {
   "cell_type": "code",
   "execution_count": 47,
   "id": "4352b200",
   "metadata": {
    "execution": {
     "iopub.execute_input": "2021-10-16T03:38:50.659515Z",
     "iopub.status.busy": "2021-10-16T03:38:50.658829Z",
     "iopub.status.idle": "2021-10-16T03:38:50.668015Z",
     "shell.execute_reply": "2021-10-16T03:38:50.668484Z",
     "shell.execute_reply.started": "2021-10-16T03:18:46.158278Z"
    },
    "papermill": {
     "duration": 0.090843,
     "end_time": "2021-10-16T03:38:50.668699",
     "exception": false,
     "start_time": "2021-10-16T03:38:50.577856",
     "status": "completed"
    },
    "tags": []
   },
   "outputs": [],
   "source": [
    "title_mapping = {\"Mr\": 1, \"Miss\": 2, \"Mrs\": 3, \"Master\": 4, \"Royal\": 5, \"Rare\": 6}\n",
    "\n",
    "combine['Title'] = combine['Title'].map(title_mapping)\n",
    "combine['Title'] = combine['Title'].fillna(0)\n",
    "\n",
    "combine_train['Title'] = combine_train['Title'].map(title_mapping)\n",
    "combine_train['Title'] = combine_train['Title'].fillna(0)"
   ]
  },
  {
   "cell_type": "markdown",
   "id": "e91d78c4",
   "metadata": {
    "papermill": {
     "duration": 0.077837,
     "end_time": "2021-10-16T03:38:50.825137",
     "exception": false,
     "start_time": "2021-10-16T03:38:50.747300",
     "status": "completed"
    },
    "tags": []
   },
   "source": [
    "## Correlation matrix"
   ]
  },
  {
   "cell_type": "code",
   "execution_count": 48,
   "id": "2961434b",
   "metadata": {
    "execution": {
     "iopub.execute_input": "2021-10-16T03:38:50.985881Z",
     "iopub.status.busy": "2021-10-16T03:38:50.985030Z",
     "iopub.status.idle": "2021-10-16T03:38:51.665238Z",
     "shell.execute_reply": "2021-10-16T03:38:51.665766Z",
     "shell.execute_reply.started": "2021-10-16T03:33:55.431960Z"
    },
    "papermill": {
     "duration": 0.762534,
     "end_time": "2021-10-16T03:38:51.665955",
     "exception": false,
     "start_time": "2021-10-16T03:38:50.903421",
     "status": "completed"
    },
    "tags": []
   },
   "outputs": [
    {
     "data": {
      "text/plain": [
       "<AxesSubplot:>"
      ]
     },
     "execution_count": 48,
     "metadata": {},
     "output_type": "execute_result"
    },
    {
     "data": {
      "image/png": "[encoded data removed]",
      "text/plain": [
       "<Figure size 864x648 with 2 Axes>"
      ]
     },
     "metadata": {
      "needs_background": "light"
     },
     "output_type": "display_data"
    }
   ],
   "source": [
    "corrmat = train_data.corr()\n",
    "f, ax = plt.subplots(figsize=(12, 9))\n",
    "sns.heatmap(corrmat, vmax=.8, square=True, \n",
    "            cbar=True, annot=True, fmt='.2f', annot_kws={'size': 10})"
   ]
  },
  {
   "cell_type": "markdown",
   "id": "7ab4f0c3",
   "metadata": {
    "papermill": {
     "duration": 0.081498,
     "end_time": "2021-10-16T03:38:51.826646",
     "exception": false,
     "start_time": "2021-10-16T03:38:51.745148",
     "status": "completed"
    },
    "tags": []
   },
   "source": [
    "## Create the final dataset"
   ]
  },
  {
   "cell_type": "code",
   "execution_count": 49,
   "id": "c97f9928",
   "metadata": {
    "execution": {
     "iopub.execute_input": "2021-10-16T03:38:51.993302Z",
     "iopub.status.busy": "2021-10-16T03:38:51.992329Z",
     "iopub.status.idle": "2021-10-16T03:38:52.008451Z",
     "shell.execute_reply": "2021-10-16T03:38:52.007604Z",
     "shell.execute_reply.started": "2021-10-16T03:37:55.887206Z"
    },
    "papermill": {
     "duration": 0.100321,
     "end_time": "2021-10-16T03:38:52.008657",
     "exception": false,
     "start_time": "2021-10-16T03:38:51.908336",
     "status": "completed"
    },
    "tags": []
   },
   "outputs": [],
   "source": [
    "from sklearn.model_selection import train_test_split\n",
    "\n",
    "combine_train = combine[combine['Source'] == 'train']\n",
    "combine_test = combine[combine['Source'] == 'test']\n",
    "\n",
    "# features = ['Pclass', 'Sex', 'Fare','Embarked', 'Age_Group','Family_Size', 'Is_Alone', 'Fare_Group', 'Title']\n",
    "features = ['Pclass','Sex','Title','Fare', 'Age','Embarked', 'Is_Alone','Family_Size']\n",
    "predictors = combine_train[features]\n",
    "target = combine_train['Survived'].astype('int')\n",
    "x_train, x_val, y_train, y_val = train_test_split(predictors, target, test_size = 0.2, random_state = 0)"
   ]
  },
  {
   "cell_type": "code",
   "execution_count": 50,
   "id": "da7480c1",
   "metadata": {
    "execution": {
     "iopub.execute_input": "2021-10-16T03:38:52.195300Z",
     "iopub.status.busy": "2021-10-16T03:38:52.194399Z",
     "iopub.status.idle": "2021-10-16T03:38:52.216202Z",
     "shell.execute_reply": "2021-10-16T03:38:52.217074Z",
     "shell.execute_reply.started": "2021-10-16T03:37:57.352326Z"
    },
    "papermill": {
     "duration": 0.126799,
     "end_time": "2021-10-16T03:38:52.217307",
     "exception": false,
     "start_time": "2021-10-16T03:38:52.090508",
     "status": "completed"
    },
    "tags": []
   },
   "outputs": [
    {
     "name": "stdout",
     "output_type": "stream",
     "text": [
      "81.01\n"
     ]
    }
   ],
   "source": [
    "# Gaussian Naive Bayes\n",
    "from sklearn.naive_bayes import GaussianNB\n",
    "from sklearn.metrics import accuracy_score\n",
    "\n",
    "gaussian = GaussianNB()\n",
    "gaussian.fit(x_train, y_train)\n",
    "y_pred = gaussian.predict(x_val)\n",
    "acc_gaussian = round(accuracy_score(y_pred, y_val) * 100, 2)\n",
    "print(acc_gaussian)"
   ]
  },
  {
   "cell_type": "code",
   "execution_count": 51,
   "id": "bc354fbb",
   "metadata": {
    "execution": {
     "iopub.execute_input": "2021-10-16T03:38:52.392908Z",
     "iopub.status.busy": "2021-10-16T03:38:52.392230Z",
     "iopub.status.idle": "2021-10-16T03:38:52.412751Z",
     "shell.execute_reply": "2021-10-16T03:38:52.413287Z",
     "shell.execute_reply.started": "2021-10-16T03:23:37.199596Z"
    },
    "papermill": {
     "duration": 0.108267,
     "end_time": "2021-10-16T03:38:52.413519",
     "exception": false,
     "start_time": "2021-10-16T03:38:52.305252",
     "status": "completed"
    },
    "tags": []
   },
   "outputs": [
    {
     "name": "stdout",
     "output_type": "stream",
     "text": [
      "73.74\n"
     ]
    }
   ],
   "source": [
    "# Logistic Regression\n",
    "from sklearn.linear_model import LogisticRegression\n",
    "\n",
    "logreg = LogisticRegression(solver='sag')\n",
    "logreg.fit(x_train, y_train)\n",
    "y_pred = logreg.predict(x_val)\n",
    "acc_logreg = round(accuracy_score(y_pred, y_val) * 100, 2)\n",
    "print(acc_logreg)"
   ]
  },
  {
   "cell_type": "code",
   "execution_count": 52,
   "id": "84bb1fcc",
   "metadata": {
    "execution": {
     "iopub.execute_input": "2021-10-16T03:38:52.578972Z",
     "iopub.status.busy": "2021-10-16T03:38:52.578244Z",
     "iopub.status.idle": "2021-10-16T03:38:52.608903Z",
     "shell.execute_reply": "2021-10-16T03:38:52.609428Z",
     "shell.execute_reply.started": "2021-10-16T03:23:39.348126Z"
    },
    "papermill": {
     "duration": 0.115035,
     "end_time": "2021-10-16T03:38:52.609628",
     "exception": false,
     "start_time": "2021-10-16T03:38:52.494593",
     "status": "completed"
    },
    "tags": []
   },
   "outputs": [
    {
     "name": "stdout",
     "output_type": "stream",
     "text": [
      "72.63\n"
     ]
    }
   ],
   "source": [
    "# Support Vector Machines\n",
    "from sklearn.svm import SVC\n",
    "\n",
    "svc = SVC()\n",
    "svc.fit(x_train, y_train)\n",
    "y_pred = svc.predict(x_val)\n",
    "acc_svc = round(accuracy_score(y_pred, y_val) * 100, 2)\n",
    "print(acc_svc)"
   ]
  },
  {
   "cell_type": "code",
   "execution_count": 53,
   "id": "b7de3aa9",
   "metadata": {
    "execution": {
     "iopub.execute_input": "2021-10-16T03:38:52.775443Z",
     "iopub.status.busy": "2021-10-16T03:38:52.774736Z",
     "iopub.status.idle": "2021-10-16T03:38:52.816273Z",
     "shell.execute_reply": "2021-10-16T03:38:52.815616Z",
     "shell.execute_reply.started": "2021-10-16T03:23:57.958729Z"
    },
    "papermill": {
     "duration": 0.125638,
     "end_time": "2021-10-16T03:38:52.816471",
     "exception": false,
     "start_time": "2021-10-16T03:38:52.690833",
     "status": "completed"
    },
    "tags": []
   },
   "outputs": [
    {
     "name": "stdout",
     "output_type": "stream",
     "text": [
      "81.01\n"
     ]
    }
   ],
   "source": [
    "# Linear SVC\n",
    "from sklearn.svm import LinearSVC\n",
    "\n",
    "linear_svc = LinearSVC()\n",
    "linear_svc.fit(x_train, y_train)\n",
    "y_pred = linear_svc.predict(x_val)\n",
    "acc_linear_svc = round(accuracy_score(y_pred, y_val) * 100, 2)\n",
    "print(acc_linear_svc)"
   ]
  },
  {
   "cell_type": "code",
   "execution_count": 54,
   "id": "57bb9112",
   "metadata": {
    "execution": {
     "iopub.execute_input": "2021-10-16T03:38:52.993150Z",
     "iopub.status.busy": "2021-10-16T03:38:52.992126Z",
     "iopub.status.idle": "2021-10-16T03:38:53.003750Z",
     "shell.execute_reply": "2021-10-16T03:38:53.002941Z",
     "shell.execute_reply.started": "2021-10-16T03:24:10.720887Z"
    },
    "papermill": {
     "duration": 0.103099,
     "end_time": "2021-10-16T03:38:53.003932",
     "exception": false,
     "start_time": "2021-10-16T03:38:52.900833",
     "status": "completed"
    },
    "tags": []
   },
   "outputs": [
    {
     "name": "stdout",
     "output_type": "stream",
     "text": [
      "81.01\n"
     ]
    }
   ],
   "source": [
    "# Perceptron\n",
    "from sklearn.linear_model import Perceptron\n",
    "\n",
    "perceptron = Perceptron()\n",
    "perceptron.fit(x_train, y_train)\n",
    "y_pred = perceptron.predict(x_val)\n",
    "acc_perceptron = round(accuracy_score(y_pred, y_val) * 100, 2)\n",
    "print(acc_perceptron)"
   ]
  },
  {
   "cell_type": "code",
   "execution_count": 55,
   "id": "be807db4",
   "metadata": {
    "execution": {
     "iopub.execute_input": "2021-10-16T03:38:53.172617Z",
     "iopub.status.busy": "2021-10-16T03:38:53.171915Z",
     "iopub.status.idle": "2021-10-16T03:38:53.185631Z",
     "shell.execute_reply": "2021-10-16T03:38:53.186395Z",
     "shell.execute_reply.started": "2021-10-16T03:24:28.028667Z"
    },
    "papermill": {
     "duration": 0.10013,
     "end_time": "2021-10-16T03:38:53.186664",
     "exception": false,
     "start_time": "2021-10-16T03:38:53.086534",
     "status": "completed"
    },
    "tags": []
   },
   "outputs": [
    {
     "name": "stdout",
     "output_type": "stream",
     "text": [
      "83.24\n"
     ]
    }
   ],
   "source": [
    "#Decision Tree\n",
    "from sklearn.tree import DecisionTreeClassifier\n",
    "\n",
    "decisiontree = DecisionTreeClassifier()\n",
    "decisiontree.fit(x_train, y_train)\n",
    "y_pred = decisiontree.predict(x_val)\n",
    "acc_decisiontree = round(accuracy_score(y_pred, y_val) * 100, 2)\n",
    "print(acc_decisiontree)"
   ]
  },
  {
   "cell_type": "code",
   "execution_count": 56,
   "id": "b4ff3bc9",
   "metadata": {
    "execution": {
     "iopub.execute_input": "2021-10-16T03:38:53.353943Z",
     "iopub.status.busy": "2021-10-16T03:38:53.352986Z",
     "iopub.status.idle": "2021-10-16T03:38:53.594242Z",
     "shell.execute_reply": "2021-10-16T03:38:53.594805Z",
     "shell.execute_reply.started": "2021-10-16T03:25:00.253203Z"
    },
    "papermill": {
     "duration": 0.325609,
     "end_time": "2021-10-16T03:38:53.595019",
     "exception": false,
     "start_time": "2021-10-16T03:38:53.269410",
     "status": "completed"
    },
    "tags": []
   },
   "outputs": [
    {
     "name": "stdout",
     "output_type": "stream",
     "text": [
      "86.03\n"
     ]
    }
   ],
   "source": [
    "# Random forest\n",
    "\n",
    "from sklearn.ensemble import RandomForestClassifier\n",
    "\n",
    "randomforest = RandomForestClassifier()\n",
    "randomforest.fit(x_train, y_train)\n",
    "y_pred = randomforest.predict(x_val)\n",
    "acc_randomforest = round(accuracy_score(y_pred, y_val) * 100, 2)\n",
    "print(acc_randomforest)\n"
   ]
  },
  {
   "cell_type": "code",
   "execution_count": 57,
   "id": "fb50ef47",
   "metadata": {
    "execution": {
     "iopub.execute_input": "2021-10-16T03:38:53.769495Z",
     "iopub.status.busy": "2021-10-16T03:38:53.764338Z",
     "iopub.status.idle": "2021-10-16T03:38:53.786832Z",
     "shell.execute_reply": "2021-10-16T03:38:53.787309Z",
     "shell.execute_reply.started": "2021-10-16T03:25:15.142118Z"
    },
    "papermill": {
     "duration": 0.109813,
     "end_time": "2021-10-16T03:38:53.787531",
     "exception": false,
     "start_time": "2021-10-16T03:38:53.677718",
     "status": "completed"
    },
    "tags": []
   },
   "outputs": [
    {
     "name": "stdout",
     "output_type": "stream",
     "text": [
      "77.09\n"
     ]
    }
   ],
   "source": [
    "# KNN or k-Nearest Neighbors\n",
    "from sklearn.neighbors import KNeighborsClassifier\n",
    "\n",
    "knn = KNeighborsClassifier()\n",
    "knn.fit(x_train, y_train)\n",
    "y_pred = knn.predict(x_val)\n",
    "acc_knn = round(accuracy_score(y_pred, y_val) * 100, 2)\n",
    "print(acc_knn)"
   ]
  },
  {
   "cell_type": "code",
   "execution_count": 58,
   "id": "cb3d9a05",
   "metadata": {
    "execution": {
     "iopub.execute_input": "2021-10-16T03:38:53.957891Z",
     "iopub.status.busy": "2021-10-16T03:38:53.957240Z",
     "iopub.status.idle": "2021-10-16T03:38:53.971345Z",
     "shell.execute_reply": "2021-10-16T03:38:53.971991Z",
     "shell.execute_reply.started": "2021-10-16T03:25:30.645779Z"
    },
    "papermill": {
     "duration": 0.101886,
     "end_time": "2021-10-16T03:38:53.972170",
     "exception": false,
     "start_time": "2021-10-16T03:38:53.870284",
     "status": "completed"
    },
    "tags": []
   },
   "outputs": [
    {
     "name": "stdout",
     "output_type": "stream",
     "text": [
      "82.68\n"
     ]
    }
   ],
   "source": [
    "# Stochastic Gradient Descent\n",
    "from sklearn.linear_model import SGDClassifier\n",
    "\n",
    "sgd = SGDClassifier()\n",
    "sgd.fit(x_train, y_train)\n",
    "y_pred = sgd.predict(x_val)\n",
    "acc_sgd = round(accuracy_score(y_pred, y_val) * 100, 2)\n",
    "print(acc_sgd)"
   ]
  },
  {
   "cell_type": "code",
   "execution_count": 59,
   "id": "0a1e27f7",
   "metadata": {
    "execution": {
     "iopub.execute_input": "2021-10-16T03:38:54.141854Z",
     "iopub.status.busy": "2021-10-16T03:38:54.141191Z",
     "iopub.status.idle": "2021-10-16T03:38:54.265299Z",
     "shell.execute_reply": "2021-10-16T03:38:54.266221Z",
     "shell.execute_reply.started": "2021-10-16T03:38:04.473613Z"
    },
    "papermill": {
     "duration": 0.211314,
     "end_time": "2021-10-16T03:38:54.266505",
     "exception": false,
     "start_time": "2021-10-16T03:38:54.055191",
     "status": "completed"
    },
    "tags": []
   },
   "outputs": [
    {
     "name": "stdout",
     "output_type": "stream",
     "text": [
      "84.92\n"
     ]
    }
   ],
   "source": [
    "# Gradient Boosting Classifier\n",
    "from sklearn.ensemble import GradientBoostingClassifier\n",
    "\n",
    "gbk = GradientBoostingClassifier()\n",
    "gbk.fit(x_train, y_train)\n",
    "y_pred = gbk.predict(x_val)\n",
    "acc_gbk = round(accuracy_score(y_pred, y_val) * 100, 2)\n",
    "print(acc_gbk)"
   ]
  },
  {
   "cell_type": "markdown",
   "id": "03b015b0",
   "metadata": {
    "papermill": {
     "duration": 0.084561,
     "end_time": "2021-10-16T03:38:54.437975",
     "exception": false,
     "start_time": "2021-10-16T03:38:54.353414",
     "status": "completed"
    },
    "tags": []
   },
   "source": [
    "## Submission code"
   ]
  },
  {
   "cell_type": "code",
   "execution_count": 60,
   "id": "fdf2b4a9",
   "metadata": {
    "execution": {
     "iopub.execute_input": "2021-10-16T03:38:54.616204Z",
     "iopub.status.busy": "2021-10-16T03:38:54.615493Z",
     "iopub.status.idle": "2021-10-16T03:38:54.624446Z",
     "shell.execute_reply": "2021-10-16T03:38:54.624929Z",
     "shell.execute_reply.started": "2021-10-16T03:38:08.101451Z"
    },
    "papermill": {
     "duration": 0.103435,
     "end_time": "2021-10-16T03:38:54.625139",
     "exception": false,
     "start_time": "2021-10-16T03:38:54.521704",
     "status": "completed"
    },
    "tags": []
   },
   "outputs": [
    {
     "name": "stdout",
     "output_type": "stream",
     "text": [
      "Your submission was successfuly saved!\n"
     ]
    }
   ],
   "source": [
    "X_test = combine_test[features]\n",
    "predictions = gbk.predict(X_test)\n",
    "\n",
    "output = pd.DataFrame({'PassengerID': combine_test['PassengerId'], 'Survived': predictions})\n",
    "output.to_csv('submission.csv', index = False)\n",
    "print(\"Your submission was successfuly saved!\")"
   ]
  },
  {
   "cell_type": "markdown",
   "id": "cd660683",
   "metadata": {
    "papermill": {
     "duration": 0.083156,
     "end_time": "2021-10-16T03:38:54.792411",
     "exception": false,
     "start_time": "2021-10-16T03:38:54.709255",
     "status": "completed"
    },
    "tags": []
   },
   "source": [
    "### Reference:\n",
    "1. NoteBooks:\n",
    "    * [11 algos titanic prediction ,EDA, visualization](https://www.kaggle.com/gaganmaahi224/11-algos-titanic-prediction-eda-visualization#EDA-of-train-dataset)\n",
    "    * [How am I doing with my score?](https://www.kaggle.com/pliptor/how-am-i-doing-with-my-score)\n",
    "    * [Comprehensive data exploration with Python](https://www.kaggle.com/pmarcelino/comprehensive-data-exploration-with-python#1.-So...-What-can-we-expect?)\n",
    "    * [A Data Science Framework: To Achieve 99% Accuracy](https://www.kaggle.com/ldfreeman3/a-data-science-framework-to-achieve-99-accuracy)    \n",
    "    * [Titanic Data Science Solutions](https://www.kaggle.com/startupsci/titanic-data-science-solutions)  \n",
    "    * [Titanic Survival Predictions (Beginner)](https://www.kaggle.com/nadintamer/titanic-survival-predictions-beginner)     \n",
    "    \n",
    "2. Reference:\n",
    "    * qcut: https://pandas.pydata.org/pandas-docs/stable/reference/api/pandas.qcut.html     \n",
    "    * Convert to int issue: http://net-informations.com/ds/err/nan.htm"
   ]
  },
  {
   "cell_type": "code",
   "execution_count": null,
   "id": "0c541e98",
   "metadata": {
    "papermill": {
     "duration": 0.085444,
     "end_time": "2021-10-16T03:38:54.961898",
     "exception": false,
     "start_time": "2021-10-16T03:38:54.876454",
     "status": "completed"
    },
    "tags": []
   },
   "outputs": [],
   "source": []
  }
 ],
 "metadata": {
  "kernelspec": {
   "display_name": "Python 3",
   "language": "python",
   "name": "python3"
  },
  "language_info": {
   "codemirror_mode": {
    "name": "ipython",
    "version": 3
   },
   "file_extension": ".py",
   "mimetype": "text/x-python",
   "name": "python",
   "nbconvert_exporter": "python",
   "pygments_lexer": "ipython3",
   "version": "3.7.10"
  },
  "papermill": {
   "default_parameters": {},
   "duration": 34.643008,
   "end_time": "2021-10-16T03:38:55.858255",
   "environment_variables": {},
   "exception": null,
   "input_path": "__notebook__.ipynb",
   "output_path": "__notebook__.ipynb",
   "parameters": {},
   "start_time": "2021-10-16T03:38:21.215247",
   "version": "2.3.3"
  }
 },
 "nbformat": 4,
 "nbformat_minor": 5
}
